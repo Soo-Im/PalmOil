{
 "cells": [
  {
   "cell_type": "code",
   "execution_count": 1,
   "id": "dca47295",
   "metadata": {
    "ExecuteTime": {
     "end_time": "2022-01-28T05:29:31.194985Z",
     "start_time": "2022-01-28T05:29:29.445558Z"
    }
   },
   "outputs": [],
   "source": [
    "import pandas as pd\n",
    "import numpy as np"
   ]
  },
  {
   "cell_type": "code",
   "execution_count": 2,
   "id": "b9bcfd07",
   "metadata": {
    "ExecuteTime": {
     "end_time": "2022-01-28T05:29:33.305515Z",
     "start_time": "2022-01-28T05:29:31.853015Z"
    }
   },
   "outputs": [],
   "source": [
    "nino34_df = pd.read_excel('PALMOIL_NINO.xlsx', sheet_name = 'Nino3.4')"
   ]
  },
  {
   "cell_type": "code",
   "execution_count": null,
   "id": "724c1191",
   "metadata": {
    "ExecuteTime": {
     "end_time": "2022-01-07T15:30:51.120251Z",
     "start_time": "2022-01-07T15:30:51.070415Z"
    },
    "deletable": false,
    "editable": false,
    "run_control": {
     "frozen": true
    }
   },
   "outputs": [],
   "source": [
    "nino34_df.head()"
   ]
  },
  {
   "cell_type": "code",
   "execution_count": null,
   "id": "df093728",
   "metadata": {
    "ExecuteTime": {
     "end_time": "2022-01-07T15:30:52.139522Z",
     "start_time": "2022-01-07T15:30:52.128555Z"
    },
    "deletable": false,
    "editable": false,
    "run_control": {
     "frozen": true
    }
   },
   "outputs": [],
   "source": [
    "list(nino34_df.columns.values)[1:]"
   ]
  },
  {
   "cell_type": "code",
   "execution_count": 3,
   "id": "436dfbf2",
   "metadata": {
    "ExecuteTime": {
     "end_time": "2022-01-28T05:29:37.733403Z",
     "start_time": "2022-01-28T05:29:37.711459Z"
    }
   },
   "outputs": [],
   "source": [
    "nino34 = pd.melt(nino34_df, id_vars=['year'], value_vars=list(nino34_df.columns.values)[1:], var_name='month', value_name='nino34')"
   ]
  },
  {
   "cell_type": "code",
   "execution_count": 4,
   "id": "a4dc7147",
   "metadata": {
    "ExecuteTime": {
     "end_time": "2022-01-18T13:27:28.518024Z",
     "start_time": "2022-01-18T13:27:28.490098Z"
    },
    "deletable": false,
    "editable": false,
    "run_control": {
     "frozen": true
    }
   },
   "outputs": [
    {
     "data": {
      "text/html": [
       "<div>\n",
       "<style scoped>\n",
       "    .dataframe tbody tr th:only-of-type {\n",
       "        vertical-align: middle;\n",
       "    }\n",
       "\n",
       "    .dataframe tbody tr th {\n",
       "        vertical-align: top;\n",
       "    }\n",
       "\n",
       "    .dataframe thead th {\n",
       "        text-align: right;\n",
       "    }\n",
       "</style>\n",
       "<table border=\"1\" class=\"dataframe\">\n",
       "  <thead>\n",
       "    <tr style=\"text-align: right;\">\n",
       "      <th></th>\n",
       "      <th>year</th>\n",
       "      <th>month</th>\n",
       "      <th>nino34</th>\n",
       "    </tr>\n",
       "  </thead>\n",
       "  <tbody>\n",
       "    <tr>\n",
       "      <th>0</th>\n",
       "      <td>1950</td>\n",
       "      <td>1</td>\n",
       "      <td>24.55</td>\n",
       "    </tr>\n",
       "    <tr>\n",
       "      <th>1</th>\n",
       "      <td>1951</td>\n",
       "      <td>1</td>\n",
       "      <td>25.24</td>\n",
       "    </tr>\n",
       "    <tr>\n",
       "      <th>2</th>\n",
       "      <td>1952</td>\n",
       "      <td>1</td>\n",
       "      <td>26.67</td>\n",
       "    </tr>\n",
       "    <tr>\n",
       "      <th>3</th>\n",
       "      <td>1953</td>\n",
       "      <td>1</td>\n",
       "      <td>26.74</td>\n",
       "    </tr>\n",
       "    <tr>\n",
       "      <th>4</th>\n",
       "      <td>1954</td>\n",
       "      <td>1</td>\n",
       "      <td>26.98</td>\n",
       "    </tr>\n",
       "  </tbody>\n",
       "</table>\n",
       "</div>"
      ],
      "text/plain": [
       "   year month  nino34\n",
       "0  1950     1   24.55\n",
       "1  1951     1   25.24\n",
       "2  1952     1   26.67\n",
       "3  1953     1   26.74\n",
       "4  1954     1   26.98"
      ]
     },
     "execution_count": 4,
     "metadata": {},
     "output_type": "execute_result"
    }
   ],
   "source": [
    "nino34.head()"
   ]
  },
  {
   "cell_type": "code",
   "execution_count": 4,
   "id": "a14bd380",
   "metadata": {
    "ExecuteTime": {
     "end_time": "2022-01-28T05:29:43.596236Z",
     "start_time": "2022-01-28T05:29:43.544077Z"
    }
   },
   "outputs": [],
   "source": [
    "nino34['DATE'] = pd.to_datetime(nino34[['year', 'month']].assign(DAY=1))"
   ]
  },
  {
   "cell_type": "code",
   "execution_count": 11,
   "id": "9f3c296c",
   "metadata": {
    "ExecuteTime": {
     "end_time": "2022-01-28T05:30:55.980822Z",
     "start_time": "2022-01-28T05:30:55.958881Z"
    }
   },
   "outputs": [],
   "source": [
    "nino34.sort_values(by='DATE', inplace=True)"
   ]
  },
  {
   "cell_type": "code",
   "execution_count": 6,
   "id": "30ca4e6d",
   "metadata": {
    "ExecuteTime": {
     "end_time": "2022-01-18T13:27:28.583849Z",
     "start_time": "2022-01-18T13:27:28.567890Z"
    },
    "deletable": false,
    "editable": false,
    "run_control": {
     "frozen": true
    }
   },
   "outputs": [
    {
     "data": {
      "text/html": [
       "<div>\n",
       "<style scoped>\n",
       "    .dataframe tbody tr th:only-of-type {\n",
       "        vertical-align: middle;\n",
       "    }\n",
       "\n",
       "    .dataframe tbody tr th {\n",
       "        vertical-align: top;\n",
       "    }\n",
       "\n",
       "    .dataframe thead th {\n",
       "        text-align: right;\n",
       "    }\n",
       "</style>\n",
       "<table border=\"1\" class=\"dataframe\">\n",
       "  <thead>\n",
       "    <tr style=\"text-align: right;\">\n",
       "      <th></th>\n",
       "      <th>year</th>\n",
       "      <th>month</th>\n",
       "      <th>nino34</th>\n",
       "      <th>DATE</th>\n",
       "    </tr>\n",
       "  </thead>\n",
       "  <tbody>\n",
       "    <tr>\n",
       "      <th>0</th>\n",
       "      <td>1950</td>\n",
       "      <td>1</td>\n",
       "      <td>24.55</td>\n",
       "      <td>1950-01-01</td>\n",
       "    </tr>\n",
       "    <tr>\n",
       "      <th>1</th>\n",
       "      <td>1951</td>\n",
       "      <td>1</td>\n",
       "      <td>25.24</td>\n",
       "      <td>1951-01-01</td>\n",
       "    </tr>\n",
       "    <tr>\n",
       "      <th>2</th>\n",
       "      <td>1952</td>\n",
       "      <td>1</td>\n",
       "      <td>26.67</td>\n",
       "      <td>1952-01-01</td>\n",
       "    </tr>\n",
       "    <tr>\n",
       "      <th>3</th>\n",
       "      <td>1953</td>\n",
       "      <td>1</td>\n",
       "      <td>26.74</td>\n",
       "      <td>1953-01-01</td>\n",
       "    </tr>\n",
       "    <tr>\n",
       "      <th>4</th>\n",
       "      <td>1954</td>\n",
       "      <td>1</td>\n",
       "      <td>26.98</td>\n",
       "      <td>1954-01-01</td>\n",
       "    </tr>\n",
       "  </tbody>\n",
       "</table>\n",
       "</div>"
      ],
      "text/plain": [
       "   year month  nino34       DATE\n",
       "0  1950     1   24.55 1950-01-01\n",
       "1  1951     1   25.24 1951-01-01\n",
       "2  1952     1   26.67 1952-01-01\n",
       "3  1953     1   26.74 1953-01-01\n",
       "4  1954     1   26.98 1954-01-01"
      ]
     },
     "execution_count": 6,
     "metadata": {},
     "output_type": "execute_result"
    }
   ],
   "source": [
    "nino34.head()"
   ]
  },
  {
   "cell_type": "code",
   "execution_count": 18,
   "id": "d3ee864b",
   "metadata": {
    "ExecuteTime": {
     "end_time": "2022-01-28T05:41:16.629725Z",
     "start_time": "2022-01-28T05:41:16.616729Z"
    }
   },
   "outputs": [],
   "source": [
    "palm = pd.read_csv('원유 팜유 선물 내역.csv')"
   ]
  },
  {
   "cell_type": "code",
   "execution_count": 20,
   "id": "4adae069",
   "metadata": {
    "ExecuteTime": {
     "end_time": "2022-01-28T05:41:25.173215Z",
     "start_time": "2022-01-28T05:41:25.155233Z"
    }
   },
   "outputs": [
    {
     "data": {
      "text/html": [
       "<div>\n",
       "<style scoped>\n",
       "    .dataframe tbody tr th:only-of-type {\n",
       "        vertical-align: middle;\n",
       "    }\n",
       "\n",
       "    .dataframe tbody tr th {\n",
       "        vertical-align: top;\n",
       "    }\n",
       "\n",
       "    .dataframe thead th {\n",
       "        text-align: right;\n",
       "    }\n",
       "</style>\n",
       "<table border=\"1\" class=\"dataframe\">\n",
       "  <thead>\n",
       "    <tr style=\"text-align: right;\">\n",
       "      <th></th>\n",
       "      <th>YEAR</th>\n",
       "      <th>MONTH</th>\n",
       "      <th>종가</th>\n",
       "      <th>오픈</th>\n",
       "      <th>고가</th>\n",
       "      <th>저가</th>\n",
       "      <th>거래량</th>\n",
       "      <th>변동 %</th>\n",
       "    </tr>\n",
       "  </thead>\n",
       "  <tbody>\n",
       "    <tr>\n",
       "      <th>0</th>\n",
       "      <td>2022년</td>\n",
       "      <td>1월</td>\n",
       "      <td>1,175.00</td>\n",
       "      <td>1,076.10</td>\n",
       "      <td>1,180.00</td>\n",
       "      <td>1,076.10</td>\n",
       "      <td>0.03K</td>\n",
       "      <td>7.55%</td>\n",
       "    </tr>\n",
       "    <tr>\n",
       "      <th>1</th>\n",
       "      <td>2021년</td>\n",
       "      <td>12월</td>\n",
       "      <td>1,092.50</td>\n",
       "      <td>1,095.00</td>\n",
       "      <td>1,129.30</td>\n",
       "      <td>1,044.00</td>\n",
       "      <td>15.49K</td>\n",
       "      <td>-2.98%</td>\n",
       "    </tr>\n",
       "    <tr>\n",
       "      <th>2</th>\n",
       "      <td>2021년</td>\n",
       "      <td>11월</td>\n",
       "      <td>1,126.00</td>\n",
       "      <td>1,127.10</td>\n",
       "      <td>1,157.30</td>\n",
       "      <td>1,082.10</td>\n",
       "      <td>19.56K</td>\n",
       "      <td>-1.43%</td>\n",
       "    </tr>\n",
       "    <tr>\n",
       "      <th>3</th>\n",
       "      <td>2021년</td>\n",
       "      <td>10월</td>\n",
       "      <td>1,142.30</td>\n",
       "      <td>1,134.00</td>\n",
       "      <td>1,194.40</td>\n",
       "      <td>1,091.00</td>\n",
       "      <td>36.29K</td>\n",
       "      <td>0.24%</td>\n",
       "    </tr>\n",
       "    <tr>\n",
       "      <th>4</th>\n",
       "      <td>2021년</td>\n",
       "      <td>9월</td>\n",
       "      <td>1,139.60</td>\n",
       "      <td>1,137.40</td>\n",
       "      <td>1,163.90</td>\n",
       "      <td>1,100.00</td>\n",
       "      <td>31.62K</td>\n",
       "      <td>-5.04%</td>\n",
       "    </tr>\n",
       "  </tbody>\n",
       "</table>\n",
       "</div>"
      ],
      "text/plain": [
       "    YEAR MONTH        종가        오픈        고가        저가     거래량    변동 %\n",
       "0  2022년    1월  1,175.00  1,076.10  1,180.00  1,076.10   0.03K   7.55%\n",
       "1  2021년   12월  1,092.50  1,095.00  1,129.30  1,044.00  15.49K  -2.98%\n",
       "2  2021년   11월  1,126.00  1,127.10  1,157.30  1,082.10  19.56K  -1.43%\n",
       "3  2021년   10월  1,142.30  1,134.00  1,194.40  1,091.00  36.29K   0.24%\n",
       "4  2021년    9월  1,139.60  1,137.40  1,163.90  1,100.00  31.62K  -5.04%"
      ]
     },
     "execution_count": 20,
     "metadata": {},
     "output_type": "execute_result"
    }
   ],
   "source": [
    "palm.head()"
   ]
  },
  {
   "cell_type": "code",
   "execution_count": 26,
   "id": "1cabdb00",
   "metadata": {
    "ExecuteTime": {
     "end_time": "2022-01-28T05:44:33.580767Z",
     "start_time": "2022-01-28T05:44:33.558792Z"
    }
   },
   "outputs": [],
   "source": [
    "palm['YEAR'] = palm['YEAR'].str.rstrip('년')\n",
    "palm['MONTH'] = palm['MONTH'].str.rstrip('월')"
   ]
  },
  {
   "cell_type": "code",
   "execution_count": 27,
   "id": "792b31cf",
   "metadata": {
    "ExecuteTime": {
     "end_time": "2022-01-28T05:44:34.731174Z",
     "start_time": "2022-01-28T05:44:34.715249Z"
    }
   },
   "outputs": [
    {
     "data": {
      "text/html": [
       "<div>\n",
       "<style scoped>\n",
       "    .dataframe tbody tr th:only-of-type {\n",
       "        vertical-align: middle;\n",
       "    }\n",
       "\n",
       "    .dataframe tbody tr th {\n",
       "        vertical-align: top;\n",
       "    }\n",
       "\n",
       "    .dataframe thead th {\n",
       "        text-align: right;\n",
       "    }\n",
       "</style>\n",
       "<table border=\"1\" class=\"dataframe\">\n",
       "  <thead>\n",
       "    <tr style=\"text-align: right;\">\n",
       "      <th></th>\n",
       "      <th>YEAR</th>\n",
       "      <th>MONTH</th>\n",
       "      <th>종가</th>\n",
       "      <th>오픈</th>\n",
       "      <th>고가</th>\n",
       "      <th>저가</th>\n",
       "      <th>거래량</th>\n",
       "      <th>변동 %</th>\n",
       "    </tr>\n",
       "  </thead>\n",
       "  <tbody>\n",
       "    <tr>\n",
       "      <th>0</th>\n",
       "      <td>2022</td>\n",
       "      <td>1</td>\n",
       "      <td>1,175.00</td>\n",
       "      <td>1,076.10</td>\n",
       "      <td>1,180.00</td>\n",
       "      <td>1,076.10</td>\n",
       "      <td>0.03K</td>\n",
       "      <td>7.55%</td>\n",
       "    </tr>\n",
       "    <tr>\n",
       "      <th>1</th>\n",
       "      <td>2021</td>\n",
       "      <td>12</td>\n",
       "      <td>1,092.50</td>\n",
       "      <td>1,095.00</td>\n",
       "      <td>1,129.30</td>\n",
       "      <td>1,044.00</td>\n",
       "      <td>15.49K</td>\n",
       "      <td>-2.98%</td>\n",
       "    </tr>\n",
       "    <tr>\n",
       "      <th>2</th>\n",
       "      <td>2021</td>\n",
       "      <td>11</td>\n",
       "      <td>1,126.00</td>\n",
       "      <td>1,127.10</td>\n",
       "      <td>1,157.30</td>\n",
       "      <td>1,082.10</td>\n",
       "      <td>19.56K</td>\n",
       "      <td>-1.43%</td>\n",
       "    </tr>\n",
       "    <tr>\n",
       "      <th>3</th>\n",
       "      <td>2021</td>\n",
       "      <td>10</td>\n",
       "      <td>1,142.30</td>\n",
       "      <td>1,134.00</td>\n",
       "      <td>1,194.40</td>\n",
       "      <td>1,091.00</td>\n",
       "      <td>36.29K</td>\n",
       "      <td>0.24%</td>\n",
       "    </tr>\n",
       "    <tr>\n",
       "      <th>4</th>\n",
       "      <td>2021</td>\n",
       "      <td>9</td>\n",
       "      <td>1,139.60</td>\n",
       "      <td>1,137.40</td>\n",
       "      <td>1,163.90</td>\n",
       "      <td>1,100.00</td>\n",
       "      <td>31.62K</td>\n",
       "      <td>-5.04%</td>\n",
       "    </tr>\n",
       "    <tr>\n",
       "      <th>...</th>\n",
       "      <td>...</td>\n",
       "      <td>...</td>\n",
       "      <td>...</td>\n",
       "      <td>...</td>\n",
       "      <td>...</td>\n",
       "      <td>...</td>\n",
       "      <td>...</td>\n",
       "      <td>...</td>\n",
       "    </tr>\n",
       "    <tr>\n",
       "      <th>190</th>\n",
       "      <td>2004</td>\n",
       "      <td>12</td>\n",
       "      <td>369.3</td>\n",
       "      <td>342</td>\n",
       "      <td>379.6</td>\n",
       "      <td>342</td>\n",
       "      <td>0.00K</td>\n",
       "      <td>0.08%</td>\n",
       "    </tr>\n",
       "    <tr>\n",
       "      <th>191</th>\n",
       "      <td>2004</td>\n",
       "      <td>11</td>\n",
       "      <td>369</td>\n",
       "      <td>352</td>\n",
       "      <td>369</td>\n",
       "      <td>352</td>\n",
       "      <td>-</td>\n",
       "      <td>0.00%</td>\n",
       "    </tr>\n",
       "    <tr>\n",
       "      <th>192</th>\n",
       "      <td>2004</td>\n",
       "      <td>10</td>\n",
       "      <td>0</td>\n",
       "      <td>369</td>\n",
       "      <td>369</td>\n",
       "      <td>359.3</td>\n",
       "      <td>-</td>\n",
       "      <td>0.00%</td>\n",
       "    </tr>\n",
       "    <tr>\n",
       "      <th>193</th>\n",
       "      <td>2004</td>\n",
       "      <td>9</td>\n",
       "      <td>0</td>\n",
       "      <td>404.7</td>\n",
       "      <td>404.7</td>\n",
       "      <td>381</td>\n",
       "      <td>-</td>\n",
       "      <td>0.00%</td>\n",
       "    </tr>\n",
       "    <tr>\n",
       "      <th>194</th>\n",
       "      <td>2004</td>\n",
       "      <td>7</td>\n",
       "      <td>0</td>\n",
       "      <td>390.5</td>\n",
       "      <td>390.5</td>\n",
       "      <td>379</td>\n",
       "      <td>-</td>\n",
       "      <td>-100.00%</td>\n",
       "    </tr>\n",
       "  </tbody>\n",
       "</table>\n",
       "<p>195 rows × 8 columns</p>\n",
       "</div>"
      ],
      "text/plain": [
       "     YEAR MONTH        종가        오픈        고가        저가     거래량      변동 %\n",
       "0    2022     1  1,175.00  1,076.10  1,180.00  1,076.10   0.03K     7.55%\n",
       "1    2021    12  1,092.50  1,095.00  1,129.30  1,044.00  15.49K    -2.98%\n",
       "2    2021    11  1,126.00  1,127.10  1,157.30  1,082.10  19.56K    -1.43%\n",
       "3    2021    10  1,142.30  1,134.00  1,194.40  1,091.00  36.29K     0.24%\n",
       "4    2021     9  1,139.60  1,137.40  1,163.90  1,100.00  31.62K    -5.04%\n",
       "..    ...   ...       ...       ...       ...       ...     ...       ...\n",
       "190  2004    12     369.3       342     379.6       342   0.00K     0.08%\n",
       "191  2004    11       369       352       369       352       -     0.00%\n",
       "192  2004    10         0       369       369     359.3       -     0.00%\n",
       "193  2004     9         0     404.7     404.7       381       -     0.00%\n",
       "194  2004     7         0     390.5     390.5       379       -  -100.00%\n",
       "\n",
       "[195 rows x 8 columns]"
      ]
     },
     "execution_count": 27,
     "metadata": {},
     "output_type": "execute_result"
    }
   ],
   "source": [
    "palm"
   ]
  },
  {
   "cell_type": "code",
   "execution_count": 28,
   "id": "6ee22681",
   "metadata": {
    "ExecuteTime": {
     "end_time": "2022-01-28T05:44:52.797833Z",
     "start_time": "2022-01-28T05:44:52.779881Z"
    }
   },
   "outputs": [],
   "source": [
    "palm['DATE'] = pd.to_datetime(palm[['YEAR', 'MONTH']].assign(DAY=1))"
   ]
  },
  {
   "cell_type": "code",
   "execution_count": 29,
   "id": "fe005370",
   "metadata": {
    "ExecuteTime": {
     "end_time": "2022-01-28T05:44:59.625117Z",
     "start_time": "2022-01-28T05:44:59.597237Z"
    }
   },
   "outputs": [
    {
     "data": {
      "text/html": [
       "<div>\n",
       "<style scoped>\n",
       "    .dataframe tbody tr th:only-of-type {\n",
       "        vertical-align: middle;\n",
       "    }\n",
       "\n",
       "    .dataframe tbody tr th {\n",
       "        vertical-align: top;\n",
       "    }\n",
       "\n",
       "    .dataframe thead th {\n",
       "        text-align: right;\n",
       "    }\n",
       "</style>\n",
       "<table border=\"1\" class=\"dataframe\">\n",
       "  <thead>\n",
       "    <tr style=\"text-align: right;\">\n",
       "      <th></th>\n",
       "      <th>YEAR</th>\n",
       "      <th>MONTH</th>\n",
       "      <th>종가</th>\n",
       "      <th>오픈</th>\n",
       "      <th>고가</th>\n",
       "      <th>저가</th>\n",
       "      <th>거래량</th>\n",
       "      <th>변동 %</th>\n",
       "      <th>DATE</th>\n",
       "    </tr>\n",
       "  </thead>\n",
       "  <tbody>\n",
       "    <tr>\n",
       "      <th>0</th>\n",
       "      <td>2022</td>\n",
       "      <td>1</td>\n",
       "      <td>1,175.00</td>\n",
       "      <td>1,076.10</td>\n",
       "      <td>1,180.00</td>\n",
       "      <td>1,076.10</td>\n",
       "      <td>0.03K</td>\n",
       "      <td>7.55%</td>\n",
       "      <td>2022-01-01</td>\n",
       "    </tr>\n",
       "    <tr>\n",
       "      <th>1</th>\n",
       "      <td>2021</td>\n",
       "      <td>12</td>\n",
       "      <td>1,092.50</td>\n",
       "      <td>1,095.00</td>\n",
       "      <td>1,129.30</td>\n",
       "      <td>1,044.00</td>\n",
       "      <td>15.49K</td>\n",
       "      <td>-2.98%</td>\n",
       "      <td>2021-12-01</td>\n",
       "    </tr>\n",
       "    <tr>\n",
       "      <th>2</th>\n",
       "      <td>2021</td>\n",
       "      <td>11</td>\n",
       "      <td>1,126.00</td>\n",
       "      <td>1,127.10</td>\n",
       "      <td>1,157.30</td>\n",
       "      <td>1,082.10</td>\n",
       "      <td>19.56K</td>\n",
       "      <td>-1.43%</td>\n",
       "      <td>2021-11-01</td>\n",
       "    </tr>\n",
       "    <tr>\n",
       "      <th>3</th>\n",
       "      <td>2021</td>\n",
       "      <td>10</td>\n",
       "      <td>1,142.30</td>\n",
       "      <td>1,134.00</td>\n",
       "      <td>1,194.40</td>\n",
       "      <td>1,091.00</td>\n",
       "      <td>36.29K</td>\n",
       "      <td>0.24%</td>\n",
       "      <td>2021-10-01</td>\n",
       "    </tr>\n",
       "    <tr>\n",
       "      <th>4</th>\n",
       "      <td>2021</td>\n",
       "      <td>9</td>\n",
       "      <td>1,139.60</td>\n",
       "      <td>1,137.40</td>\n",
       "      <td>1,163.90</td>\n",
       "      <td>1,100.00</td>\n",
       "      <td>31.62K</td>\n",
       "      <td>-5.04%</td>\n",
       "      <td>2021-09-01</td>\n",
       "    </tr>\n",
       "  </tbody>\n",
       "</table>\n",
       "</div>"
      ],
      "text/plain": [
       "   YEAR MONTH        종가        오픈        고가        저가     거래량    변동 %  \\\n",
       "0  2022     1  1,175.00  1,076.10  1,180.00  1,076.10   0.03K   7.55%   \n",
       "1  2021    12  1,092.50  1,095.00  1,129.30  1,044.00  15.49K  -2.98%   \n",
       "2  2021    11  1,126.00  1,127.10  1,157.30  1,082.10  19.56K  -1.43%   \n",
       "3  2021    10  1,142.30  1,134.00  1,194.40  1,091.00  36.29K   0.24%   \n",
       "4  2021     9  1,139.60  1,137.40  1,163.90  1,100.00  31.62K  -5.04%   \n",
       "\n",
       "        DATE  \n",
       "0 2022-01-01  \n",
       "1 2021-12-01  \n",
       "2 2021-11-01  \n",
       "3 2021-10-01  \n",
       "4 2021-09-01  "
      ]
     },
     "execution_count": 29,
     "metadata": {},
     "output_type": "execute_result"
    }
   ],
   "source": [
    "palm.head()"
   ]
  },
  {
   "cell_type": "code",
   "execution_count": 30,
   "id": "85daf5c9",
   "metadata": {
    "ExecuteTime": {
     "end_time": "2022-01-28T05:45:06.324609Z",
     "start_time": "2022-01-28T05:45:06.304693Z"
    }
   },
   "outputs": [],
   "source": [
    "df = palm.merge(nino34, how='inner', on='DATE')"
   ]
  },
  {
   "cell_type": "code",
   "execution_count": 32,
   "id": "0ccab221",
   "metadata": {
    "ExecuteTime": {
     "end_time": "2022-01-28T05:45:42.712553Z",
     "start_time": "2022-01-28T05:45:42.701583Z"
    }
   },
   "outputs": [],
   "source": [
    "df.sort_values(by='DATE', inplace=True)"
   ]
  },
  {
   "cell_type": "code",
   "execution_count": 43,
   "id": "83cde0e2",
   "metadata": {
    "ExecuteTime": {
     "end_time": "2022-01-28T05:50:33.951379Z",
     "start_time": "2022-01-28T05:50:33.920457Z"
    }
   },
   "outputs": [
    {
     "data": {
      "text/html": [
       "<div>\n",
       "<style scoped>\n",
       "    .dataframe tbody tr th:only-of-type {\n",
       "        vertical-align: middle;\n",
       "    }\n",
       "\n",
       "    .dataframe tbody tr th {\n",
       "        vertical-align: top;\n",
       "    }\n",
       "\n",
       "    .dataframe thead th {\n",
       "        text-align: right;\n",
       "    }\n",
       "</style>\n",
       "<table border=\"1\" class=\"dataframe\">\n",
       "  <thead>\n",
       "    <tr style=\"text-align: right;\">\n",
       "      <th></th>\n",
       "      <th>YEAR</th>\n",
       "      <th>MONTH</th>\n",
       "      <th>종가</th>\n",
       "      <th>오픈</th>\n",
       "      <th>고가</th>\n",
       "      <th>저가</th>\n",
       "      <th>거래량</th>\n",
       "      <th>변동 %</th>\n",
       "      <th>DATE</th>\n",
       "      <th>year</th>\n",
       "      <th>month</th>\n",
       "      <th>nino34</th>\n",
       "    </tr>\n",
       "  </thead>\n",
       "  <tbody>\n",
       "    <tr>\n",
       "      <th>181</th>\n",
       "      <td>2004</td>\n",
       "      <td>7</td>\n",
       "      <td>0.0</td>\n",
       "      <td>390.5</td>\n",
       "      <td>390.5</td>\n",
       "      <td>379</td>\n",
       "      <td>-</td>\n",
       "      <td>-100.00%</td>\n",
       "      <td>2004-07-01</td>\n",
       "      <td>2004</td>\n",
       "      <td>7</td>\n",
       "      <td>27.78</td>\n",
       "    </tr>\n",
       "    <tr>\n",
       "      <th>180</th>\n",
       "      <td>2004</td>\n",
       "      <td>9</td>\n",
       "      <td>0.0</td>\n",
       "      <td>404.7</td>\n",
       "      <td>404.7</td>\n",
       "      <td>381</td>\n",
       "      <td>-</td>\n",
       "      <td>0.00%</td>\n",
       "      <td>2004-09-01</td>\n",
       "      <td>2004</td>\n",
       "      <td>9</td>\n",
       "      <td>27.53</td>\n",
       "    </tr>\n",
       "    <tr>\n",
       "      <th>179</th>\n",
       "      <td>2004</td>\n",
       "      <td>10</td>\n",
       "      <td>0.0</td>\n",
       "      <td>369</td>\n",
       "      <td>369</td>\n",
       "      <td>359.3</td>\n",
       "      <td>-</td>\n",
       "      <td>0.00%</td>\n",
       "      <td>2004-10-01</td>\n",
       "      <td>2004</td>\n",
       "      <td>10</td>\n",
       "      <td>27.44</td>\n",
       "    </tr>\n",
       "    <tr>\n",
       "      <th>178</th>\n",
       "      <td>2004</td>\n",
       "      <td>11</td>\n",
       "      <td>369.0</td>\n",
       "      <td>352</td>\n",
       "      <td>369</td>\n",
       "      <td>352</td>\n",
       "      <td>-</td>\n",
       "      <td>0.00%</td>\n",
       "      <td>2004-11-01</td>\n",
       "      <td>2004</td>\n",
       "      <td>11</td>\n",
       "      <td>27.36</td>\n",
       "    </tr>\n",
       "    <tr>\n",
       "      <th>177</th>\n",
       "      <td>2004</td>\n",
       "      <td>12</td>\n",
       "      <td>369.3</td>\n",
       "      <td>342</td>\n",
       "      <td>379.6</td>\n",
       "      <td>342</td>\n",
       "      <td>0.00K</td>\n",
       "      <td>0.08%</td>\n",
       "      <td>2004-12-01</td>\n",
       "      <td>2004</td>\n",
       "      <td>12</td>\n",
       "      <td>27.34</td>\n",
       "    </tr>\n",
       "  </tbody>\n",
       "</table>\n",
       "</div>"
      ],
      "text/plain": [
       "     YEAR MONTH     종가     오픈     고가     저가    거래량      변동 %       DATE  year  \\\n",
       "181  2004     7    0.0  390.5  390.5    379      -  -100.00% 2004-07-01  2004   \n",
       "180  2004     9    0.0  404.7  404.7    381      -     0.00% 2004-09-01  2004   \n",
       "179  2004    10    0.0    369    369  359.3      -     0.00% 2004-10-01  2004   \n",
       "178  2004    11  369.0    352    369    352      -     0.00% 2004-11-01  2004   \n",
       "177  2004    12  369.3    342  379.6    342  0.00K     0.08% 2004-12-01  2004   \n",
       "\n",
       "    month  nino34  \n",
       "181     7   27.78  \n",
       "180     9   27.53  \n",
       "179    10   27.44  \n",
       "178    11   27.36  \n",
       "177    12   27.34  "
      ]
     },
     "execution_count": 43,
     "metadata": {},
     "output_type": "execute_result"
    }
   ],
   "source": [
    "df.head()"
   ]
  },
  {
   "cell_type": "code",
   "execution_count": 37,
   "id": "2d03e3f2",
   "metadata": {
    "ExecuteTime": {
     "end_time": "2022-01-28T05:47:52.399636Z",
     "start_time": "2022-01-28T05:47:52.380689Z"
    }
   },
   "outputs": [],
   "source": [
    "df['종가'] = pd.to_numeric(df['종가'])"
   ]
  },
  {
   "cell_type": "code",
   "execution_count": 44,
   "id": "99ab3c3e",
   "metadata": {
    "ExecuteTime": {
     "end_time": "2022-01-28T05:51:45.373012Z",
     "start_time": "2022-01-28T05:51:45.365033Z"
    }
   },
   "outputs": [],
   "source": [
    "df = df.drop(df[df.종가 <= 0].index)"
   ]
  },
  {
   "cell_type": "code",
   "execution_count": 45,
   "id": "6e5c38fa",
   "metadata": {
    "ExecuteTime": {
     "end_time": "2022-01-28T05:51:48.779302Z",
     "start_time": "2022-01-28T05:51:48.741405Z"
    }
   },
   "outputs": [
    {
     "data": {
      "text/html": [
       "<div>\n",
       "<style scoped>\n",
       "    .dataframe tbody tr th:only-of-type {\n",
       "        vertical-align: middle;\n",
       "    }\n",
       "\n",
       "    .dataframe tbody tr th {\n",
       "        vertical-align: top;\n",
       "    }\n",
       "\n",
       "    .dataframe thead th {\n",
       "        text-align: right;\n",
       "    }\n",
       "</style>\n",
       "<table border=\"1\" class=\"dataframe\">\n",
       "  <thead>\n",
       "    <tr style=\"text-align: right;\">\n",
       "      <th></th>\n",
       "      <th>YEAR</th>\n",
       "      <th>MONTH</th>\n",
       "      <th>종가</th>\n",
       "      <th>오픈</th>\n",
       "      <th>고가</th>\n",
       "      <th>저가</th>\n",
       "      <th>거래량</th>\n",
       "      <th>변동 %</th>\n",
       "      <th>DATE</th>\n",
       "      <th>year</th>\n",
       "      <th>month</th>\n",
       "      <th>nino34</th>\n",
       "    </tr>\n",
       "  </thead>\n",
       "  <tbody>\n",
       "    <tr>\n",
       "      <th>178</th>\n",
       "      <td>2004</td>\n",
       "      <td>11</td>\n",
       "      <td>369.0</td>\n",
       "      <td>352</td>\n",
       "      <td>369</td>\n",
       "      <td>352</td>\n",
       "      <td>-</td>\n",
       "      <td>0.00%</td>\n",
       "      <td>2004-11-01</td>\n",
       "      <td>2004</td>\n",
       "      <td>11</td>\n",
       "      <td>27.36</td>\n",
       "    </tr>\n",
       "    <tr>\n",
       "      <th>177</th>\n",
       "      <td>2004</td>\n",
       "      <td>12</td>\n",
       "      <td>369.3</td>\n",
       "      <td>342</td>\n",
       "      <td>379.6</td>\n",
       "      <td>342</td>\n",
       "      <td>0.00K</td>\n",
       "      <td>0.08%</td>\n",
       "      <td>2004-12-01</td>\n",
       "      <td>2004</td>\n",
       "      <td>12</td>\n",
       "      <td>27.34</td>\n",
       "    </tr>\n",
       "    <tr>\n",
       "      <th>176</th>\n",
       "      <td>2005</td>\n",
       "      <td>1</td>\n",
       "      <td>372.5</td>\n",
       "      <td>379</td>\n",
       "      <td>380</td>\n",
       "      <td>329</td>\n",
       "      <td>0.24K</td>\n",
       "      <td>0.87%</td>\n",
       "      <td>2005-01-01</td>\n",
       "      <td>2005</td>\n",
       "      <td>1</td>\n",
       "      <td>27.21</td>\n",
       "    </tr>\n",
       "    <tr>\n",
       "      <th>175</th>\n",
       "      <td>2005</td>\n",
       "      <td>2</td>\n",
       "      <td>310.0</td>\n",
       "      <td>362.7</td>\n",
       "      <td>381.4</td>\n",
       "      <td>310</td>\n",
       "      <td>0.06K</td>\n",
       "      <td>-16.78%</td>\n",
       "      <td>2005-02-01</td>\n",
       "      <td>2005</td>\n",
       "      <td>2</td>\n",
       "      <td>27.11</td>\n",
       "    </tr>\n",
       "    <tr>\n",
       "      <th>174</th>\n",
       "      <td>2005</td>\n",
       "      <td>3</td>\n",
       "      <td>307.4</td>\n",
       "      <td>301.2</td>\n",
       "      <td>328.3</td>\n",
       "      <td>290.1</td>\n",
       "      <td>0.37K</td>\n",
       "      <td>-0.84%</td>\n",
       "      <td>2005-03-01</td>\n",
       "      <td>2005</td>\n",
       "      <td>3</td>\n",
       "      <td>27.73</td>\n",
       "    </tr>\n",
       "    <tr>\n",
       "      <th>...</th>\n",
       "      <td>...</td>\n",
       "      <td>...</td>\n",
       "      <td>...</td>\n",
       "      <td>...</td>\n",
       "      <td>...</td>\n",
       "      <td>...</td>\n",
       "      <td>...</td>\n",
       "      <td>...</td>\n",
       "      <td>...</td>\n",
       "      <td>...</td>\n",
       "      <td>...</td>\n",
       "      <td>...</td>\n",
       "    </tr>\n",
       "    <tr>\n",
       "      <th>4</th>\n",
       "      <td>2020</td>\n",
       "      <td>8</td>\n",
       "      <td>763.4</td>\n",
       "      <td>742.7</td>\n",
       "      <td>766.9</td>\n",
       "      <td>719.4</td>\n",
       "      <td>36.08K</td>\n",
       "      <td>3.20%</td>\n",
       "      <td>2020-08-01</td>\n",
       "      <td>2020</td>\n",
       "      <td>8</td>\n",
       "      <td>26.26</td>\n",
       "    </tr>\n",
       "    <tr>\n",
       "      <th>3</th>\n",
       "      <td>2020</td>\n",
       "      <td>9</td>\n",
       "      <td>772.6</td>\n",
       "      <td>767.1</td>\n",
       "      <td>814.7</td>\n",
       "      <td>749.3</td>\n",
       "      <td>32.85K</td>\n",
       "      <td>1.21%</td>\n",
       "      <td>2020-09-01</td>\n",
       "      <td>2020</td>\n",
       "      <td>9</td>\n",
       "      <td>25.89</td>\n",
       "    </tr>\n",
       "    <tr>\n",
       "      <th>2</th>\n",
       "      <td>2020</td>\n",
       "      <td>10</td>\n",
       "      <td>831.5</td>\n",
       "      <td>761.8</td>\n",
       "      <td>835.6</td>\n",
       "      <td>747.2</td>\n",
       "      <td>36.85K</td>\n",
       "      <td>7.62%</td>\n",
       "      <td>2020-10-01</td>\n",
       "      <td>2020</td>\n",
       "      <td>10</td>\n",
       "      <td>25.46</td>\n",
       "    </tr>\n",
       "    <tr>\n",
       "      <th>1</th>\n",
       "      <td>2020</td>\n",
       "      <td>11</td>\n",
       "      <td>872.0</td>\n",
       "      <td>814</td>\n",
       "      <td>948.8</td>\n",
       "      <td>807</td>\n",
       "      <td>46.08K</td>\n",
       "      <td>4.87%</td>\n",
       "      <td>2020-11-01</td>\n",
       "      <td>2020</td>\n",
       "      <td>11</td>\n",
       "      <td>25.28</td>\n",
       "    </tr>\n",
       "    <tr>\n",
       "      <th>0</th>\n",
       "      <td>2020</td>\n",
       "      <td>12</td>\n",
       "      <td>970.7</td>\n",
       "      <td>878</td>\n",
       "      <td>977</td>\n",
       "      <td>865.1</td>\n",
       "      <td>46.09K</td>\n",
       "      <td>11.32%</td>\n",
       "      <td>2020-12-01</td>\n",
       "      <td>2020</td>\n",
       "      <td>12</td>\n",
       "      <td>25.44</td>\n",
       "    </tr>\n",
       "  </tbody>\n",
       "</table>\n",
       "<p>179 rows × 12 columns</p>\n",
       "</div>"
      ],
      "text/plain": [
       "     YEAR MONTH     종가     오픈     고가     저가     거래량     변동 %       DATE  year  \\\n",
       "178  2004    11  369.0    352    369    352       -    0.00% 2004-11-01  2004   \n",
       "177  2004    12  369.3    342  379.6    342   0.00K    0.08% 2004-12-01  2004   \n",
       "176  2005     1  372.5    379    380    329   0.24K    0.87% 2005-01-01  2005   \n",
       "175  2005     2  310.0  362.7  381.4    310   0.06K  -16.78% 2005-02-01  2005   \n",
       "174  2005     3  307.4  301.2  328.3  290.1   0.37K   -0.84% 2005-03-01  2005   \n",
       "..    ...   ...    ...    ...    ...    ...     ...      ...        ...   ...   \n",
       "4    2020     8  763.4  742.7  766.9  719.4  36.08K    3.20% 2020-08-01  2020   \n",
       "3    2020     9  772.6  767.1  814.7  749.3  32.85K    1.21% 2020-09-01  2020   \n",
       "2    2020    10  831.5  761.8  835.6  747.2  36.85K    7.62% 2020-10-01  2020   \n",
       "1    2020    11  872.0    814  948.8    807  46.08K    4.87% 2020-11-01  2020   \n",
       "0    2020    12  970.7    878    977  865.1  46.09K   11.32% 2020-12-01  2020   \n",
       "\n",
       "    month  nino34  \n",
       "178    11   27.36  \n",
       "177    12   27.34  \n",
       "176     1   27.21  \n",
       "175     2   27.11  \n",
       "174     3   27.73  \n",
       "..    ...     ...  \n",
       "4       8   26.26  \n",
       "3       9   25.89  \n",
       "2      10   25.46  \n",
       "1      11   25.28  \n",
       "0      12   25.44  \n",
       "\n",
       "[179 rows x 12 columns]"
      ]
     },
     "execution_count": 45,
     "metadata": {},
     "output_type": "execute_result"
    }
   ],
   "source": [
    "df"
   ]
  },
  {
   "cell_type": "code",
   "execution_count": 46,
   "id": "99da5a09",
   "metadata": {
    "ExecuteTime": {
     "end_time": "2022-01-28T05:51:53.767928Z",
     "start_time": "2022-01-28T05:51:53.754936Z"
    }
   },
   "outputs": [],
   "source": [
    "def excel_writer(excel_path, dataframe):\n",
    "    writer = pd.ExcelWriter(excel_path, engine='xlsxwriter')\n",
    "    dataframe.to_excel(writer, index=False)\n",
    "    writer.close()"
   ]
  },
  {
   "cell_type": "code",
   "execution_count": 47,
   "id": "e35eb648",
   "metadata": {
    "ExecuteTime": {
     "end_time": "2022-01-28T05:51:56.882392Z",
     "start_time": "2022-01-28T05:51:56.794228Z"
    }
   },
   "outputs": [],
   "source": [
    "excel_writer('palm_nino_concat.xlsx', df)"
   ]
  },
  {
   "cell_type": "code",
   "execution_count": 48,
   "id": "c6db176f",
   "metadata": {
    "ExecuteTime": {
     "end_time": "2022-01-28T05:52:08.122085Z",
     "start_time": "2022-01-28T05:52:08.103101Z"
    }
   },
   "outputs": [],
   "source": [
    "def cross_corr(x, y, lag):\n",
    "    return x.corr(y.shift(periods=lag))"
   ]
  },
  {
   "cell_type": "code",
   "execution_count": 49,
   "id": "ebf1930a",
   "metadata": {
    "ExecuteTime": {
     "end_time": "2022-01-28T05:52:19.161849Z",
     "start_time": "2022-01-28T05:52:19.138912Z"
    }
   },
   "outputs": [
    {
     "data": {
      "text/plain": [
       "[-0.1402141810368205,\n",
       " -0.10973320749732489,\n",
       " -0.08682121637030113,\n",
       " -0.07105881969581367,\n",
       " -0.06792112510073221,\n",
       " -0.07367748636364746,\n",
       " -0.07697129815787411,\n",
       " -0.06443965523282623,\n",
       " -0.045536227069403135,\n",
       " -0.016767017214051914,\n",
       " 0.018105001371332367]"
      ]
     },
     "execution_count": 49,
     "metadata": {},
     "output_type": "execute_result"
    }
   ],
   "source": [
    "nino_palm = [cross_corr(df['nino34'], df['종가'], lag=i) for i in range(11)]\n",
    "nino_palm"
   ]
  },
  {
   "cell_type": "code",
   "execution_count": 39,
   "id": "94d20413",
   "metadata": {
    "ExecuteTime": {
     "end_time": "2022-01-28T05:47:58.093045Z",
     "start_time": "2022-01-28T05:47:57.548533Z"
    }
   },
   "outputs": [],
   "source": [
    "import matplotlib.pyplot as plt"
   ]
  },
  {
   "cell_type": "code",
   "execution_count": 50,
   "id": "3c8c4aa0",
   "metadata": {
    "ExecuteTime": {
     "end_time": "2022-01-28T05:52:21.965106Z",
     "start_time": "2022-01-28T05:52:21.689309Z"
    }
   },
   "outputs": [
    {
     "data": {
      "text/plain": [
       "<AxesSubplot:label='28832cbd-fd47-4eae-a9c7-51f9718f301c'>"
      ]
     },
     "execution_count": 50,
     "metadata": {},
     "output_type": "execute_result"
    },
    {
     "data": {
      "image/png": "[encoded data removed]",
      "text/plain": [
       "<Figure size 432x288 with 2 Axes>"
      ]
     },
     "metadata": {
      "needs_background": "light"
     },
     "output_type": "display_data"
    }
   ],
   "source": [
    "fig, ax = plt.subplots()\n",
    "df.nino34.plot(ax=ax, style='r-')\n",
    "df.종가.plot(ax=ax, style='b-', secondary_y=True)"
   ]
  },
  {
   "cell_type": "markdown",
   "id": "0981b7fa",
   "metadata": {},
   "source": [
    "# Random Forest Regression"
   ]
  },
  {
   "cell_type": "code",
   "execution_count": 51,
   "id": "6e0026ff",
   "metadata": {
    "ExecuteTime": {
     "end_time": "2022-01-28T05:53:02.631692Z",
     "start_time": "2022-01-28T05:53:02.610710Z"
    }
   },
   "outputs": [],
   "source": [
    "x = df[['nino34']]\n",
    "y = df['종가']"
   ]
  },
  {
   "cell_type": "code",
   "execution_count": 52,
   "id": "2877a04f",
   "metadata": {
    "ExecuteTime": {
     "end_time": "2022-01-28T05:53:06.043643Z",
     "start_time": "2022-01-28T05:53:03.475848Z"
    }
   },
   "outputs": [],
   "source": [
    "from sklearn.ensemble import RandomForestRegressor"
   ]
  },
  {
   "cell_type": "code",
   "execution_count": 53,
   "id": "a1490401",
   "metadata": {
    "ExecuteTime": {
     "end_time": "2022-01-28T05:53:06.216399Z",
     "start_time": "2022-01-28T05:53:06.047633Z"
    }
   },
   "outputs": [
    {
     "data": {
      "text/plain": [
       "RandomForestRegressor()"
      ]
     },
     "execution_count": 53,
     "metadata": {},
     "output_type": "execute_result"
    }
   ],
   "source": [
    "regressor = RandomForestRegressor()\n",
    "regressor.fit(x, y)"
   ]
  },
  {
   "cell_type": "code",
   "execution_count": 54,
   "id": "116d15a2",
   "metadata": {
    "ExecuteTime": {
     "end_time": "2022-01-28T05:53:07.115827Z",
     "start_time": "2022-01-28T05:53:07.088901Z"
    }
   },
   "outputs": [],
   "source": [
    "y_pred = regressor.predict(np.array([6.5]).reshape(1, 1))"
   ]
  },
  {
   "cell_type": "code",
   "execution_count": 55,
   "id": "01a7e779",
   "metadata": {
    "ExecuteTime": {
     "end_time": "2022-01-28T05:53:07.648777Z",
     "start_time": "2022-01-28T05:53:07.639837Z"
    }
   },
   "outputs": [
    {
     "data": {
      "text/plain": [
       "array([[6.5]])"
      ]
     },
     "execution_count": 55,
     "metadata": {},
     "output_type": "execute_result"
    }
   ],
   "source": [
    "np.array([6.5]).reshape(1, 1)"
   ]
  },
  {
   "cell_type": "code",
   "execution_count": 57,
   "id": "01703c57",
   "metadata": {
    "ExecuteTime": {
     "end_time": "2022-01-28T05:53:14.920486Z",
     "start_time": "2022-01-28T05:53:14.715225Z"
    }
   },
   "outputs": [
    {
     "data": {
      "image/png": "[encoded data removed]",
      "text/plain": [
       "<Figure size 1080x360 with 1 Axes>"
      ]
     },
     "metadata": {
      "needs_background": "light"
     },
     "output_type": "display_data"
    }
   ],
   "source": [
    "X_grid = np.arange(min(df['nino34']), max(df['nino34']), 0.01)\n",
    "X_grid = X_grid.reshape((len(X_grid), 1))\n",
    "plt.scatter(x, y, color = 'b') \n",
    "plt.plot(X_grid, regressor.predict(X_grid),color = 'green')\n",
    "plt.rcParams[\"figure.figsize\"] = (15,5)\n",
    "plt.title('Random Forest Regression')\n",
    "plt.xlabel('Nino3.4')\n",
    "plt.ylabel('Palm Oil')\n",
    "plt.show()"
   ]
  },
  {
   "cell_type": "code",
   "execution_count": null,
   "id": "3fba7046",
   "metadata": {
    "ExecuteTime": {
     "end_time": "2022-01-18T14:24:37.872416Z",
     "start_time": "2022-01-18T14:24:37.866486Z"
    }
   },
   "outputs": [],
   "source": []
  },
  {
   "cell_type": "code",
   "execution_count": null,
   "id": "111741d8",
   "metadata": {},
   "outputs": [],
   "source": []
  }
 ],
 "metadata": {
  "kernelspec": {
   "display_name": "Python 3",
   "language": "python",
   "name": "python3"
  },
  "language_info": {
   "codemirror_mode": {
    "name": "ipython",
    "version": 3
   },
   "file_extension": ".py",
   "mimetype": "text/x-python",
   "name": "python",
   "nbconvert_exporter": "python",
   "pygments_lexer": "ipython3",
   "version": "3.8.8"
  }
 },
 "nbformat": 4,
 "nbformat_minor": 5
}
