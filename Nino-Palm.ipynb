{
 "cells": [
  {
   "cell_type": "code",
   "execution_count": 1,
   "id": "dca47295",
   "metadata": {
    "ExecuteTime": {
     "end_time": "2022-01-18T13:27:27.061358Z",
     "start_time": "2022-01-18T13:27:25.388593Z"
    }
   },
   "outputs": [],
   "source": [
    "import pandas as pd\n",
    "import numpy as np"
   ]
  },
  {
   "cell_type": "code",
   "execution_count": 2,
   "id": "b9bcfd07",
   "metadata": {
    "ExecuteTime": {
     "end_time": "2022-01-18T13:27:28.465170Z",
     "start_time": "2022-01-18T13:27:27.063346Z"
    }
   },
   "outputs": [],
   "source": [
    "nino34_df = pd.read_excel('PALMOIL_NINO.xlsx', sheet_name = 'Nino3.4')"
   ]
  },
  {
   "cell_type": "code",
   "execution_count": null,
   "id": "724c1191",
   "metadata": {
    "ExecuteTime": {
     "end_time": "2022-01-07T15:30:51.120251Z",
     "start_time": "2022-01-07T15:30:51.070415Z"
    },
    "deletable": false,
    "editable": false,
    "run_control": {
     "frozen": true
    }
   },
   "outputs": [],
   "source": [
    "nino34_df.head()"
   ]
  },
  {
   "cell_type": "code",
   "execution_count": null,
   "id": "df093728",
   "metadata": {
    "ExecuteTime": {
     "end_time": "2022-01-07T15:30:52.139522Z",
     "start_time": "2022-01-07T15:30:52.128555Z"
    },
    "deletable": false,
    "editable": false,
    "run_control": {
     "frozen": true
    }
   },
   "outputs": [],
   "source": [
    "list(nino34_df.columns.values)[1:]"
   ]
  },
  {
   "cell_type": "code",
   "execution_count": 3,
   "id": "436dfbf2",
   "metadata": {
    "ExecuteTime": {
     "end_time": "2022-01-18T13:27:28.487114Z",
     "start_time": "2022-01-18T13:27:28.468157Z"
    }
   },
   "outputs": [],
   "source": [
    "nino34 = pd.melt(nino34_df, id_vars=['year'], value_vars=list(nino34_df.columns.values)[1:], var_name='month', value_name='nino34')"
   ]
  },
  {
   "cell_type": "code",
   "execution_count": 4,
   "id": "a4dc7147",
   "metadata": {
    "ExecuteTime": {
     "end_time": "2022-01-18T13:27:28.518024Z",
     "start_time": "2022-01-18T13:27:28.490098Z"
    }
   },
   "outputs": [
    {
     "data": {
      "text/html": [
       "<div>\n",
       "<style scoped>\n",
       "    .dataframe tbody tr th:only-of-type {\n",
       "        vertical-align: middle;\n",
       "    }\n",
       "\n",
       "    .dataframe tbody tr th {\n",
       "        vertical-align: top;\n",
       "    }\n",
       "\n",
       "    .dataframe thead th {\n",
       "        text-align: right;\n",
       "    }\n",
       "</style>\n",
       "<table border=\"1\" class=\"dataframe\">\n",
       "  <thead>\n",
       "    <tr style=\"text-align: right;\">\n",
       "      <th></th>\n",
       "      <th>year</th>\n",
       "      <th>month</th>\n",
       "      <th>nino34</th>\n",
       "    </tr>\n",
       "  </thead>\n",
       "  <tbody>\n",
       "    <tr>\n",
       "      <th>0</th>\n",
       "      <td>1950</td>\n",
       "      <td>1</td>\n",
       "      <td>24.55</td>\n",
       "    </tr>\n",
       "    <tr>\n",
       "      <th>1</th>\n",
       "      <td>1951</td>\n",
       "      <td>1</td>\n",
       "      <td>25.24</td>\n",
       "    </tr>\n",
       "    <tr>\n",
       "      <th>2</th>\n",
       "      <td>1952</td>\n",
       "      <td>1</td>\n",
       "      <td>26.67</td>\n",
       "    </tr>\n",
       "    <tr>\n",
       "      <th>3</th>\n",
       "      <td>1953</td>\n",
       "      <td>1</td>\n",
       "      <td>26.74</td>\n",
       "    </tr>\n",
       "    <tr>\n",
       "      <th>4</th>\n",
       "      <td>1954</td>\n",
       "      <td>1</td>\n",
       "      <td>26.98</td>\n",
       "    </tr>\n",
       "  </tbody>\n",
       "</table>\n",
       "</div>"
      ],
      "text/plain": [
       "   year month  nino34\n",
       "0  1950     1   24.55\n",
       "1  1951     1   25.24\n",
       "2  1952     1   26.67\n",
       "3  1953     1   26.74\n",
       "4  1954     1   26.98"
      ]
     },
     "execution_count": 4,
     "metadata": {},
     "output_type": "execute_result"
    }
   ],
   "source": [
    "nino34.head()"
   ]
  },
  {
   "cell_type": "code",
   "execution_count": 5,
   "id": "a14bd380",
   "metadata": {
    "ExecuteTime": {
     "end_time": "2022-01-18T13:27:28.566893Z",
     "start_time": "2022-01-18T13:27:28.520020Z"
    }
   },
   "outputs": [],
   "source": [
    "nino34['DATE'] = pd.to_datetime(nino34[['year', 'month']].assign(DAY=1))"
   ]
  },
  {
   "cell_type": "code",
   "execution_count": 6,
   "id": "30ca4e6d",
   "metadata": {
    "ExecuteTime": {
     "end_time": "2022-01-18T13:27:28.583849Z",
     "start_time": "2022-01-18T13:27:28.567890Z"
    }
   },
   "outputs": [
    {
     "data": {
      "text/html": [
       "<div>\n",
       "<style scoped>\n",
       "    .dataframe tbody tr th:only-of-type {\n",
       "        vertical-align: middle;\n",
       "    }\n",
       "\n",
       "    .dataframe tbody tr th {\n",
       "        vertical-align: top;\n",
       "    }\n",
       "\n",
       "    .dataframe thead th {\n",
       "        text-align: right;\n",
       "    }\n",
       "</style>\n",
       "<table border=\"1\" class=\"dataframe\">\n",
       "  <thead>\n",
       "    <tr style=\"text-align: right;\">\n",
       "      <th></th>\n",
       "      <th>year</th>\n",
       "      <th>month</th>\n",
       "      <th>nino34</th>\n",
       "      <th>DATE</th>\n",
       "    </tr>\n",
       "  </thead>\n",
       "  <tbody>\n",
       "    <tr>\n",
       "      <th>0</th>\n",
       "      <td>1950</td>\n",
       "      <td>1</td>\n",
       "      <td>24.55</td>\n",
       "      <td>1950-01-01</td>\n",
       "    </tr>\n",
       "    <tr>\n",
       "      <th>1</th>\n",
       "      <td>1951</td>\n",
       "      <td>1</td>\n",
       "      <td>25.24</td>\n",
       "      <td>1951-01-01</td>\n",
       "    </tr>\n",
       "    <tr>\n",
       "      <th>2</th>\n",
       "      <td>1952</td>\n",
       "      <td>1</td>\n",
       "      <td>26.67</td>\n",
       "      <td>1952-01-01</td>\n",
       "    </tr>\n",
       "    <tr>\n",
       "      <th>3</th>\n",
       "      <td>1953</td>\n",
       "      <td>1</td>\n",
       "      <td>26.74</td>\n",
       "      <td>1953-01-01</td>\n",
       "    </tr>\n",
       "    <tr>\n",
       "      <th>4</th>\n",
       "      <td>1954</td>\n",
       "      <td>1</td>\n",
       "      <td>26.98</td>\n",
       "      <td>1954-01-01</td>\n",
       "    </tr>\n",
       "  </tbody>\n",
       "</table>\n",
       "</div>"
      ],
      "text/plain": [
       "   year month  nino34       DATE\n",
       "0  1950     1   24.55 1950-01-01\n",
       "1  1951     1   25.24 1951-01-01\n",
       "2  1952     1   26.67 1952-01-01\n",
       "3  1953     1   26.74 1953-01-01\n",
       "4  1954     1   26.98 1954-01-01"
      ]
     },
     "execution_count": 6,
     "metadata": {},
     "output_type": "execute_result"
    }
   ],
   "source": [
    "nino34.head()"
   ]
  },
  {
   "cell_type": "code",
   "execution_count": 7,
   "id": "d3ee864b",
   "metadata": {
    "ExecuteTime": {
     "end_time": "2022-01-18T13:27:28.653661Z",
     "start_time": "2022-01-18T13:27:28.586850Z"
    }
   },
   "outputs": [],
   "source": [
    "palm = pd.read_excel('PALMOIL_PRESENT.xlsx')"
   ]
  },
  {
   "cell_type": "code",
   "execution_count": 13,
   "id": "4adae069",
   "metadata": {
    "ExecuteTime": {
     "end_time": "2022-01-18T13:29:38.842004Z",
     "start_time": "2022-01-18T13:29:38.823059Z"
    }
   },
   "outputs": [
    {
     "data": {
      "text/html": [
       "<div>\n",
       "<style scoped>\n",
       "    .dataframe tbody tr th:only-of-type {\n",
       "        vertical-align: middle;\n",
       "    }\n",
       "\n",
       "    .dataframe tbody tr th {\n",
       "        vertical-align: top;\n",
       "    }\n",
       "\n",
       "    .dataframe thead th {\n",
       "        text-align: right;\n",
       "    }\n",
       "</style>\n",
       "<table border=\"1\" class=\"dataframe\">\n",
       "  <thead>\n",
       "    <tr style=\"text-align: right;\">\n",
       "      <th></th>\n",
       "      <th>DATE</th>\n",
       "      <th>평균가</th>\n",
       "      <th>전년동월평균가</th>\n",
       "      <th>전년도동월대비</th>\n",
       "      <th>등락률(%)</th>\n",
       "      <th>종가</th>\n",
       "      <th>환산가($/ton)</th>\n",
       "    </tr>\n",
       "  </thead>\n",
       "  <tbody>\n",
       "    <tr>\n",
       "      <th>0</th>\n",
       "      <td>2022-01-01</td>\n",
       "      <td>4857.00</td>\n",
       "      <td>3522.47</td>\n",
       "      <td>▲  1,334.53</td>\n",
       "      <td>37.89</td>\n",
       "      <td>4857.0</td>\n",
       "      <td>1165.88</td>\n",
       "    </tr>\n",
       "    <tr>\n",
       "      <th>1</th>\n",
       "      <td>2021-12-01</td>\n",
       "      <td>4632.82</td>\n",
       "      <td>3438.73</td>\n",
       "      <td>▲  1,194.09</td>\n",
       "      <td>34.72</td>\n",
       "      <td>4697.0</td>\n",
       "      <td>1109.26</td>\n",
       "    </tr>\n",
       "    <tr>\n",
       "      <th>2</th>\n",
       "      <td>2021-11-01</td>\n",
       "      <td>4903.86</td>\n",
       "      <td>3257.95</td>\n",
       "      <td>▲  1,645.91</td>\n",
       "      <td>50.52</td>\n",
       "      <td>4672.0</td>\n",
       "      <td>1156.97</td>\n",
       "    </tr>\n",
       "    <tr>\n",
       "      <th>3</th>\n",
       "      <td>2021-10-01</td>\n",
       "      <td>4911.41</td>\n",
       "      <td>2910.81</td>\n",
       "      <td>▲  2,000.60</td>\n",
       "      <td>68.73</td>\n",
       "      <td>4929.0</td>\n",
       "      <td>1182.21</td>\n",
       "    </tr>\n",
       "    <tr>\n",
       "      <th>4</th>\n",
       "      <td>2021-09-01</td>\n",
       "      <td>4379.61</td>\n",
       "      <td>2859.14</td>\n",
       "      <td>▲  1,520.47</td>\n",
       "      <td>53.18</td>\n",
       "      <td>4595.0</td>\n",
       "      <td>1046.57</td>\n",
       "    </tr>\n",
       "  </tbody>\n",
       "</table>\n",
       "</div>"
      ],
      "text/plain": [
       "        DATE      평균가  전년동월평균가      전년도동월대비  등락률(%)      종가  환산가($/ton)\n",
       "0 2022-01-01  4857.00  3522.47  ▲  1,334.53   37.89  4857.0     1165.88\n",
       "1 2021-12-01  4632.82  3438.73  ▲  1,194.09   34.72  4697.0     1109.26\n",
       "2 2021-11-01  4903.86  3257.95  ▲  1,645.91   50.52  4672.0     1156.97\n",
       "3 2021-10-01  4911.41  2910.81  ▲  2,000.60   68.73  4929.0     1182.21\n",
       "4 2021-09-01  4379.61  2859.14  ▲  1,520.47   53.18  4595.0     1046.57"
      ]
     },
     "execution_count": 13,
     "metadata": {},
     "output_type": "execute_result"
    }
   ],
   "source": [
    "palm.rename(columns = {'기간(월)': 'DATE'}, inplace = True)\n",
    "palm.head()"
   ]
  },
  {
   "cell_type": "code",
   "execution_count": 8,
   "id": "9f3c296c",
   "metadata": {
    "ExecuteTime": {
     "end_time": "2022-01-18T13:27:28.666627Z",
     "start_time": "2022-01-18T13:27:28.659652Z"
    }
   },
   "outputs": [],
   "source": [
    "nino34.sort_values(by='DATE', inplace=True)"
   ]
  },
  {
   "cell_type": "code",
   "execution_count": 9,
   "id": "3e184907",
   "metadata": {
    "ExecuteTime": {
     "end_time": "2022-01-18T13:27:28.694552Z",
     "start_time": "2022-01-18T13:27:28.668623Z"
    }
   },
   "outputs": [
    {
     "data": {
      "text/html": [
       "<div>\n",
       "<style scoped>\n",
       "    .dataframe tbody tr th:only-of-type {\n",
       "        vertical-align: middle;\n",
       "    }\n",
       "\n",
       "    .dataframe tbody tr th {\n",
       "        vertical-align: top;\n",
       "    }\n",
       "\n",
       "    .dataframe thead th {\n",
       "        text-align: right;\n",
       "    }\n",
       "</style>\n",
       "<table border=\"1\" class=\"dataframe\">\n",
       "  <thead>\n",
       "    <tr style=\"text-align: right;\">\n",
       "      <th></th>\n",
       "      <th>year</th>\n",
       "      <th>month</th>\n",
       "      <th>nino34</th>\n",
       "      <th>DATE</th>\n",
       "    </tr>\n",
       "  </thead>\n",
       "  <tbody>\n",
       "    <tr>\n",
       "      <th>0</th>\n",
       "      <td>1950</td>\n",
       "      <td>1</td>\n",
       "      <td>24.55</td>\n",
       "      <td>1950-01-01</td>\n",
       "    </tr>\n",
       "    <tr>\n",
       "      <th>71</th>\n",
       "      <td>1950</td>\n",
       "      <td>2</td>\n",
       "      <td>25.06</td>\n",
       "      <td>1950-02-01</td>\n",
       "    </tr>\n",
       "    <tr>\n",
       "      <th>142</th>\n",
       "      <td>1950</td>\n",
       "      <td>3</td>\n",
       "      <td>25.87</td>\n",
       "      <td>1950-03-01</td>\n",
       "    </tr>\n",
       "    <tr>\n",
       "      <th>213</th>\n",
       "      <td>1950</td>\n",
       "      <td>4</td>\n",
       "      <td>26.28</td>\n",
       "      <td>1950-04-01</td>\n",
       "    </tr>\n",
       "    <tr>\n",
       "      <th>284</th>\n",
       "      <td>1950</td>\n",
       "      <td>5</td>\n",
       "      <td>26.18</td>\n",
       "      <td>1950-05-01</td>\n",
       "    </tr>\n",
       "    <tr>\n",
       "      <th>...</th>\n",
       "      <td>...</td>\n",
       "      <td>...</td>\n",
       "      <td>...</td>\n",
       "      <td>...</td>\n",
       "    </tr>\n",
       "    <tr>\n",
       "      <th>567</th>\n",
       "      <td>2020</td>\n",
       "      <td>8</td>\n",
       "      <td>26.26</td>\n",
       "      <td>2020-08-01</td>\n",
       "    </tr>\n",
       "    <tr>\n",
       "      <th>638</th>\n",
       "      <td>2020</td>\n",
       "      <td>9</td>\n",
       "      <td>25.89</td>\n",
       "      <td>2020-09-01</td>\n",
       "    </tr>\n",
       "    <tr>\n",
       "      <th>709</th>\n",
       "      <td>2020</td>\n",
       "      <td>10</td>\n",
       "      <td>25.46</td>\n",
       "      <td>2020-10-01</td>\n",
       "    </tr>\n",
       "    <tr>\n",
       "      <th>780</th>\n",
       "      <td>2020</td>\n",
       "      <td>11</td>\n",
       "      <td>25.28</td>\n",
       "      <td>2020-11-01</td>\n",
       "    </tr>\n",
       "    <tr>\n",
       "      <th>851</th>\n",
       "      <td>2020</td>\n",
       "      <td>12</td>\n",
       "      <td>25.44</td>\n",
       "      <td>2020-12-01</td>\n",
       "    </tr>\n",
       "  </tbody>\n",
       "</table>\n",
       "<p>852 rows × 4 columns</p>\n",
       "</div>"
      ],
      "text/plain": [
       "     year month  nino34       DATE\n",
       "0    1950     1   24.55 1950-01-01\n",
       "71   1950     2   25.06 1950-02-01\n",
       "142  1950     3   25.87 1950-03-01\n",
       "213  1950     4   26.28 1950-04-01\n",
       "284  1950     5   26.18 1950-05-01\n",
       "..    ...   ...     ...        ...\n",
       "567  2020     8   26.26 2020-08-01\n",
       "638  2020     9   25.89 2020-09-01\n",
       "709  2020    10   25.46 2020-10-01\n",
       "780  2020    11   25.28 2020-11-01\n",
       "851  2020    12   25.44 2020-12-01\n",
       "\n",
       "[852 rows x 4 columns]"
      ]
     },
     "execution_count": 9,
     "metadata": {},
     "output_type": "execute_result"
    }
   ],
   "source": [
    "nino34"
   ]
  },
  {
   "cell_type": "code",
   "execution_count": 14,
   "id": "85daf5c9",
   "metadata": {
    "ExecuteTime": {
     "end_time": "2022-01-18T13:29:42.954727Z",
     "start_time": "2022-01-18T13:29:42.937772Z"
    }
   },
   "outputs": [],
   "source": [
    "df = palm.merge(nino34, how='inner', on='DATE')"
   ]
  },
  {
   "cell_type": "code",
   "execution_count": 15,
   "id": "83cde0e2",
   "metadata": {
    "ExecuteTime": {
     "end_time": "2022-01-18T13:29:44.391207Z",
     "start_time": "2022-01-18T13:29:44.368320Z"
    }
   },
   "outputs": [
    {
     "data": {
      "text/html": [
       "<div>\n",
       "<style scoped>\n",
       "    .dataframe tbody tr th:only-of-type {\n",
       "        vertical-align: middle;\n",
       "    }\n",
       "\n",
       "    .dataframe tbody tr th {\n",
       "        vertical-align: top;\n",
       "    }\n",
       "\n",
       "    .dataframe thead th {\n",
       "        text-align: right;\n",
       "    }\n",
       "</style>\n",
       "<table border=\"1\" class=\"dataframe\">\n",
       "  <thead>\n",
       "    <tr style=\"text-align: right;\">\n",
       "      <th></th>\n",
       "      <th>DATE</th>\n",
       "      <th>평균가</th>\n",
       "      <th>전년동월평균가</th>\n",
       "      <th>전년도동월대비</th>\n",
       "      <th>등락률(%)</th>\n",
       "      <th>종가</th>\n",
       "      <th>환산가($/ton)</th>\n",
       "      <th>year</th>\n",
       "      <th>month</th>\n",
       "      <th>nino34</th>\n",
       "    </tr>\n",
       "  </thead>\n",
       "  <tbody>\n",
       "    <tr>\n",
       "      <th>0</th>\n",
       "      <td>2020-12-01</td>\n",
       "      <td>3438.73</td>\n",
       "      <td>2897.71</td>\n",
       "      <td>▲  541.02</td>\n",
       "      <td>18.67</td>\n",
       "      <td>3600.0</td>\n",
       "      <td>851.81</td>\n",
       "      <td>2020</td>\n",
       "      <td>12</td>\n",
       "      <td>25.44</td>\n",
       "    </tr>\n",
       "    <tr>\n",
       "      <th>1</th>\n",
       "      <td>2020-11-01</td>\n",
       "      <td>3257.95</td>\n",
       "      <td>2622.68</td>\n",
       "      <td>▲  635.27</td>\n",
       "      <td>24.22</td>\n",
       "      <td>3305.0</td>\n",
       "      <td>800.56</td>\n",
       "      <td>2020</td>\n",
       "      <td>11</td>\n",
       "      <td>25.28</td>\n",
       "    </tr>\n",
       "    <tr>\n",
       "      <th>2</th>\n",
       "      <td>2020-10-01</td>\n",
       "      <td>2910.81</td>\n",
       "      <td>2272.53</td>\n",
       "      <td>▲  638.28</td>\n",
       "      <td>28.09</td>\n",
       "      <td>3011.0</td>\n",
       "      <td>700.30</td>\n",
       "      <td>2020</td>\n",
       "      <td>10</td>\n",
       "      <td>25.46</td>\n",
       "    </tr>\n",
       "    <tr>\n",
       "      <th>3</th>\n",
       "      <td>2020-09-01</td>\n",
       "      <td>2859.14</td>\n",
       "      <td>2192.94</td>\n",
       "      <td>▲  666.20</td>\n",
       "      <td>30.38</td>\n",
       "      <td>2714.0</td>\n",
       "      <td>684.73</td>\n",
       "      <td>2020</td>\n",
       "      <td>9</td>\n",
       "      <td>25.89</td>\n",
       "    </tr>\n",
       "    <tr>\n",
       "      <th>4</th>\n",
       "      <td>2020-08-01</td>\n",
       "      <td>2701.63</td>\n",
       "      <td>2183.11</td>\n",
       "      <td>▲  518.52</td>\n",
       "      <td>23.75</td>\n",
       "      <td>2738.0</td>\n",
       "      <td>647.48</td>\n",
       "      <td>2020</td>\n",
       "      <td>8</td>\n",
       "      <td>26.26</td>\n",
       "    </tr>\n",
       "  </tbody>\n",
       "</table>\n",
       "</div>"
      ],
      "text/plain": [
       "        DATE      평균가  전년동월평균가    전년도동월대비  등락률(%)      종가  환산가($/ton)  year  \\\n",
       "0 2020-12-01  3438.73  2897.71  ▲  541.02   18.67  3600.0      851.81  2020   \n",
       "1 2020-11-01  3257.95  2622.68  ▲  635.27   24.22  3305.0      800.56  2020   \n",
       "2 2020-10-01  2910.81  2272.53  ▲  638.28   28.09  3011.0      700.30  2020   \n",
       "3 2020-09-01  2859.14  2192.94  ▲  666.20   30.38  2714.0      684.73  2020   \n",
       "4 2020-08-01  2701.63  2183.11  ▲  518.52   23.75  2738.0      647.48  2020   \n",
       "\n",
       "  month  nino34  \n",
       "0    12   25.44  \n",
       "1    11   25.28  \n",
       "2    10   25.46  \n",
       "3     9   25.89  \n",
       "4     8   26.26  "
      ]
     },
     "execution_count": 15,
     "metadata": {},
     "output_type": "execute_result"
    }
   ],
   "source": [
    "df.head()"
   ]
  },
  {
   "cell_type": "code",
   "execution_count": 16,
   "id": "c6db176f",
   "metadata": {
    "ExecuteTime": {
     "end_time": "2022-01-18T13:30:08.896335Z",
     "start_time": "2022-01-18T13:30:08.891348Z"
    }
   },
   "outputs": [],
   "source": [
    "def cross_corr(x, y, lag):\n",
    "    return x.corr(y.shift(periods=lag))"
   ]
  },
  {
   "cell_type": "code",
   "execution_count": 25,
   "id": "df76dd6c",
   "metadata": {
    "ExecuteTime": {
     "end_time": "2022-01-18T13:31:35.243491Z",
     "start_time": "2022-01-18T13:31:35.227501Z"
    }
   },
   "outputs": [
    {
     "data": {
      "text/plain": [
       "[-0.544901121421203,\n",
       " -0.5851895652156084,\n",
       " -0.5815019304624124,\n",
       " -0.545632365829853,\n",
       " -0.47802645138319494,\n",
       " -0.37681087620846127,\n",
       " -0.26204160254804026,\n",
       " -0.14439761466421416,\n",
       " -0.0506343399633699,\n",
       " -0.009390825041121148,\n",
       " 0.0017959896804405399]"
      ]
     },
     "execution_count": 25,
     "metadata": {},
     "output_type": "execute_result"
    }
   ],
   "source": [
    "nino_palm = [cross_corr(df['nino34'], df['평균가'], lag=i) for i in range(11)]\n",
    "nino_palm"
   ]
  },
  {
   "cell_type": "code",
   "execution_count": 19,
   "id": "94d20413",
   "metadata": {
    "ExecuteTime": {
     "end_time": "2022-01-18T13:30:14.310814Z",
     "start_time": "2022-01-18T13:30:13.800119Z"
    }
   },
   "outputs": [],
   "source": [
    "import matplotlib.pyplot as plt"
   ]
  },
  {
   "cell_type": "code",
   "execution_count": 21,
   "id": "ca471a1c",
   "metadata": {
    "ExecuteTime": {
     "end_time": "2022-01-18T13:30:45.503382Z",
     "start_time": "2022-01-18T13:30:45.155533Z"
    }
   },
   "outputs": [
    {
     "data": {
      "text/plain": [
       "<AxesSubplot:label='dbe0cc38-f0a0-4cef-a2e0-65f1b3a1c766'>"
      ]
     },
     "execution_count": 21,
     "metadata": {},
     "output_type": "execute_result"
    },
    {
     "data": {
      "image/png": "[encoded data removed]",
      "text/plain": [
       "<Figure size 432x288 with 2 Axes>"
      ]
     },
     "metadata": {
      "needs_background": "light"
     },
     "output_type": "display_data"
    }
   ],
   "source": [
    "fig, ax = plt.subplots()\n",
    "df.nino34.plot(ax=ax, style='r-')\n",
    "df.평균가.plot(ax=ax, style='b-', secondary_y=True)"
   ]
  },
  {
   "cell_type": "code",
   "execution_count": 24,
   "id": "ebf1930a",
   "metadata": {
    "ExecuteTime": {
     "end_time": "2022-01-18T13:31:26.782714Z",
     "start_time": "2022-01-18T13:31:26.769749Z"
    }
   },
   "outputs": [
    {
     "data": {
      "text/plain": [
       "[-0.5612058945585172,\n",
       " -0.5807500079495339,\n",
       " -0.5695618858540661,\n",
       " -0.519196191778024,\n",
       " -0.4316160319618575,\n",
       " -0.3147479926567363,\n",
       " -0.19819704289064297,\n",
       " -0.08950424873641961,\n",
       " -0.0273672475813057,\n",
       " -0.007665532915514359,\n",
       " -0.010890362377058805]"
      ]
     },
     "execution_count": 24,
     "metadata": {},
     "output_type": "execute_result"
    }
   ],
   "source": [
    "nino_palm = [cross_corr(df['nino34'], df['종가'], lag=i) for i in range(11)]\n",
    "nino_palm"
   ]
  },
  {
   "cell_type": "code",
   "execution_count": 22,
   "id": "3c8c4aa0",
   "metadata": {
    "ExecuteTime": {
     "end_time": "2022-01-18T13:31:06.010637Z",
     "start_time": "2022-01-18T13:31:05.636638Z"
    }
   },
   "outputs": [
    {
     "data": {
      "text/plain": [
       "<AxesSubplot:label='3822232b-4ff7-46c4-bf0e-d90770ba0b1c'>"
      ]
     },
     "execution_count": 22,
     "metadata": {},
     "output_type": "execute_result"
    },
    {
     "data": {
      "image/png": "[encoded data removed]",
      "text/plain": [
       "<Figure size 432x288 with 2 Axes>"
      ]
     },
     "metadata": {
      "needs_background": "light"
     },
     "output_type": "display_data"
    }
   ],
   "source": [
    "fig, ax = plt.subplots()\n",
    "df.nino34.plot(ax=ax, style='r-')\n",
    "df.종가.plot(ax=ax, style='b-', secondary_y=True)"
   ]
  },
  {
   "cell_type": "markdown",
   "id": "0981b7fa",
   "metadata": {},
   "source": [
    "# Random Forest Regression"
   ]
  },
  {
   "cell_type": "code",
   "execution_count": 39,
   "id": "6e0026ff",
   "metadata": {
    "ExecuteTime": {
     "end_time": "2022-01-18T14:19:45.870202Z",
     "start_time": "2022-01-18T14:19:45.863221Z"
    }
   },
   "outputs": [],
   "source": [
    "x = df[['nino34']]\n",
    "y = df['종가']"
   ]
  },
  {
   "cell_type": "code",
   "execution_count": 40,
   "id": "2877a04f",
   "metadata": {
    "ExecuteTime": {
     "end_time": "2022-01-18T14:19:46.429711Z",
     "start_time": "2022-01-18T14:19:46.426715Z"
    }
   },
   "outputs": [],
   "source": [
    "from sklearn.ensemble import RandomForestRegressor"
   ]
  },
  {
   "cell_type": "code",
   "execution_count": 41,
   "id": "a1490401",
   "metadata": {
    "ExecuteTime": {
     "end_time": "2022-01-18T14:19:47.192666Z",
     "start_time": "2022-01-18T14:19:47.035088Z"
    }
   },
   "outputs": [
    {
     "data": {
      "text/plain": [
       "RandomForestRegressor()"
      ]
     },
     "execution_count": 41,
     "metadata": {},
     "output_type": "execute_result"
    }
   ],
   "source": [
    "regressor = RandomForestRegressor()\n",
    "regressor.fit(x, y)"
   ]
  },
  {
   "cell_type": "code",
   "execution_count": 45,
   "id": "116d15a2",
   "metadata": {
    "ExecuteTime": {
     "end_time": "2022-01-18T14:22:54.204617Z",
     "start_time": "2022-01-18T14:22:54.183675Z"
    }
   },
   "outputs": [],
   "source": [
    "y_pred = regressor.predict(np.array([6.5]).reshape(1, 1))"
   ]
  },
  {
   "cell_type": "code",
   "execution_count": 44,
   "id": "01a7e779",
   "metadata": {
    "ExecuteTime": {
     "end_time": "2022-01-18T14:22:31.094409Z",
     "start_time": "2022-01-18T14:22:31.085433Z"
    }
   },
   "outputs": [
    {
     "data": {
      "text/plain": [
       "array([[6.5]])"
      ]
     },
     "execution_count": 44,
     "metadata": {},
     "output_type": "execute_result"
    }
   ],
   "source": [
    "np.array([6.5]).reshape(1, 1)"
   ]
  },
  {
   "cell_type": "code",
   "execution_count": 57,
   "id": "01703c57",
   "metadata": {
    "ExecuteTime": {
     "end_time": "2022-01-18T14:26:52.012376Z",
     "start_time": "2022-01-18T14:26:51.745083Z"
    }
   },
   "outputs": [
    {
     "data": {
      "image/png": "[encoded data removed]",
      "text/plain": [
       "<Figure size 1080x288 with 1 Axes>"
      ]
     },
     "metadata": {
      "needs_background": "light"
     },
     "output_type": "display_data"
    }
   ],
   "source": [
    "X_grid = np.arange(min(df['nino34']), max(df['nino34']), 0.01)\n",
    "X_grid = X_grid.reshape((len(X_grid), 1))\n",
    "plt.scatter(x, y, color = 'b') \n",
    "plt.plot(X_grid, regressor.predict(X_grid),color = 'green')\n",
    "plt.rcParams[\"figure.figsize\"] = (15,5)\n",
    "plt.title('Random Forest Regression')\n",
    "plt.xlabel('Nino3.4')\n",
    "plt.ylabel('Palm Oil')\n",
    "plt.show()"
   ]
  },
  {
   "cell_type": "code",
   "execution_count": null,
   "id": "3fba7046",
   "metadata": {
    "ExecuteTime": {
     "end_time": "2022-01-18T14:24:37.872416Z",
     "start_time": "2022-01-18T14:24:37.866486Z"
    }
   },
   "outputs": [],
   "source": []
  },
  {
   "cell_type": "code",
   "execution_count": null,
   "id": "111741d8",
   "metadata": {},
   "outputs": [],
   "source": []
  }
 ],
 "metadata": {
  "kernelspec": {
   "display_name": "Python 3",
   "language": "python",
   "name": "python3"
  },
  "language_info": {
   "codemirror_mode": {
    "name": "ipython",
    "version": 3
   },
   "file_extension": ".py",
   "mimetype": "text/x-python",
   "name": "python",
   "nbconvert_exporter": "python",
   "pygments_lexer": "ipython3",
   "version": "3.8.8"
  }
 },
 "nbformat": 4,
 "nbformat_minor": 5
}
