{
 "cells": [
  {
   "cell_type": "code",
   "execution_count": 1,
   "id": "dca47295",
   "metadata": {
    "ExecuteTime": {
     "end_time": "2022-01-09T14:34:46.007772Z",
     "start_time": "2022-01-09T14:34:42.389457Z"
    }
   },
   "outputs": [],
   "source": [
    "import pandas as pd\n",
    "import numpy as np"
   ]
  },
  {
   "cell_type": "code",
   "execution_count": 2,
   "id": "b9bcfd07",
   "metadata": {
    "ExecuteTime": {
     "end_time": "2022-01-09T14:34:49.357955Z",
     "start_time": "2022-01-09T14:34:46.012760Z"
    }
   },
   "outputs": [],
   "source": [
    "nino34_df = pd.read_excel('PALMOIL_NINO.xlsx', sheet_name = 'Nino3.4')"
   ]
  },
  {
   "cell_type": "code",
   "execution_count": null,
   "id": "724c1191",
   "metadata": {
    "ExecuteTime": {
     "end_time": "2022-01-07T15:30:51.120251Z",
     "start_time": "2022-01-07T15:30:51.070415Z"
    },
    "deletable": false,
    "editable": false,
    "run_control": {
     "frozen": true
    }
   },
   "outputs": [],
   "source": [
    "nino34_df.head()"
   ]
  },
  {
   "cell_type": "code",
   "execution_count": null,
   "id": "df093728",
   "metadata": {
    "ExecuteTime": {
     "end_time": "2022-01-07T15:30:52.139522Z",
     "start_time": "2022-01-07T15:30:52.128555Z"
    },
    "deletable": false,
    "editable": false,
    "run_control": {
     "frozen": true
    }
   },
   "outputs": [],
   "source": [
    "list(nino34_df.columns.values)[1:]"
   ]
  },
  {
   "cell_type": "code",
   "execution_count": 3,
   "id": "436dfbf2",
   "metadata": {
    "ExecuteTime": {
     "end_time": "2022-01-09T14:34:49.406687Z",
     "start_time": "2022-01-09T14:34:49.364802Z"
    }
   },
   "outputs": [],
   "source": [
    "nino34 = pd.melt(nino34_df, id_vars=['year'], value_vars=list(nino34_df.columns.values)[1:], var_name='month', value_name='nino34')"
   ]
  },
  {
   "cell_type": "code",
   "execution_count": 4,
   "id": "a4dc7147",
   "metadata": {
    "ExecuteTime": {
     "end_time": "2022-01-09T14:34:49.487471Z",
     "start_time": "2022-01-09T14:34:49.414695Z"
    }
   },
   "outputs": [
    {
     "data": {
      "text/html": [
       "<div>\n",
       "<style scoped>\n",
       "    .dataframe tbody tr th:only-of-type {\n",
       "        vertical-align: middle;\n",
       "    }\n",
       "\n",
       "    .dataframe tbody tr th {\n",
       "        vertical-align: top;\n",
       "    }\n",
       "\n",
       "    .dataframe thead th {\n",
       "        text-align: right;\n",
       "    }\n",
       "</style>\n",
       "<table border=\"1\" class=\"dataframe\">\n",
       "  <thead>\n",
       "    <tr style=\"text-align: right;\">\n",
       "      <th></th>\n",
       "      <th>year</th>\n",
       "      <th>month</th>\n",
       "      <th>nino34</th>\n",
       "    </tr>\n",
       "  </thead>\n",
       "  <tbody>\n",
       "    <tr>\n",
       "      <th>0</th>\n",
       "      <td>1950</td>\n",
       "      <td>1</td>\n",
       "      <td>24.55</td>\n",
       "    </tr>\n",
       "    <tr>\n",
       "      <th>1</th>\n",
       "      <td>1951</td>\n",
       "      <td>1</td>\n",
       "      <td>25.24</td>\n",
       "    </tr>\n",
       "    <tr>\n",
       "      <th>2</th>\n",
       "      <td>1952</td>\n",
       "      <td>1</td>\n",
       "      <td>26.67</td>\n",
       "    </tr>\n",
       "    <tr>\n",
       "      <th>3</th>\n",
       "      <td>1953</td>\n",
       "      <td>1</td>\n",
       "      <td>26.74</td>\n",
       "    </tr>\n",
       "    <tr>\n",
       "      <th>4</th>\n",
       "      <td>1954</td>\n",
       "      <td>1</td>\n",
       "      <td>26.98</td>\n",
       "    </tr>\n",
       "  </tbody>\n",
       "</table>\n",
       "</div>"
      ],
      "text/plain": [
       "   year month  nino34\n",
       "0  1950     1   24.55\n",
       "1  1951     1   25.24\n",
       "2  1952     1   26.67\n",
       "3  1953     1   26.74\n",
       "4  1954     1   26.98"
      ]
     },
     "execution_count": 4,
     "metadata": {},
     "output_type": "execute_result"
    }
   ],
   "source": [
    "nino34.head()"
   ]
  },
  {
   "cell_type": "code",
   "execution_count": 5,
   "id": "a14bd380",
   "metadata": {
    "ExecuteTime": {
     "end_time": "2022-01-09T14:34:49.543366Z",
     "start_time": "2022-01-09T14:34:49.491456Z"
    }
   },
   "outputs": [],
   "source": [
    "nino34['DATE'] = pd.to_datetime(nino34[['year', 'month']].assign(DAY=1))"
   ]
  },
  {
   "cell_type": "code",
   "execution_count": 6,
   "id": "30ca4e6d",
   "metadata": {
    "ExecuteTime": {
     "end_time": "2022-01-09T14:34:49.574274Z",
     "start_time": "2022-01-09T14:34:49.547347Z"
    }
   },
   "outputs": [
    {
     "data": {
      "text/html": [
       "<div>\n",
       "<style scoped>\n",
       "    .dataframe tbody tr th:only-of-type {\n",
       "        vertical-align: middle;\n",
       "    }\n",
       "\n",
       "    .dataframe tbody tr th {\n",
       "        vertical-align: top;\n",
       "    }\n",
       "\n",
       "    .dataframe thead th {\n",
       "        text-align: right;\n",
       "    }\n",
       "</style>\n",
       "<table border=\"1\" class=\"dataframe\">\n",
       "  <thead>\n",
       "    <tr style=\"text-align: right;\">\n",
       "      <th></th>\n",
       "      <th>year</th>\n",
       "      <th>month</th>\n",
       "      <th>nino34</th>\n",
       "      <th>DATE</th>\n",
       "    </tr>\n",
       "  </thead>\n",
       "  <tbody>\n",
       "    <tr>\n",
       "      <th>0</th>\n",
       "      <td>1950</td>\n",
       "      <td>1</td>\n",
       "      <td>24.55</td>\n",
       "      <td>1950-01-01</td>\n",
       "    </tr>\n",
       "    <tr>\n",
       "      <th>1</th>\n",
       "      <td>1951</td>\n",
       "      <td>1</td>\n",
       "      <td>25.24</td>\n",
       "      <td>1951-01-01</td>\n",
       "    </tr>\n",
       "    <tr>\n",
       "      <th>2</th>\n",
       "      <td>1952</td>\n",
       "      <td>1</td>\n",
       "      <td>26.67</td>\n",
       "      <td>1952-01-01</td>\n",
       "    </tr>\n",
       "    <tr>\n",
       "      <th>3</th>\n",
       "      <td>1953</td>\n",
       "      <td>1</td>\n",
       "      <td>26.74</td>\n",
       "      <td>1953-01-01</td>\n",
       "    </tr>\n",
       "    <tr>\n",
       "      <th>4</th>\n",
       "      <td>1954</td>\n",
       "      <td>1</td>\n",
       "      <td>26.98</td>\n",
       "      <td>1954-01-01</td>\n",
       "    </tr>\n",
       "  </tbody>\n",
       "</table>\n",
       "</div>"
      ],
      "text/plain": [
       "   year month  nino34       DATE\n",
       "0  1950     1   24.55 1950-01-01\n",
       "1  1951     1   25.24 1951-01-01\n",
       "2  1952     1   26.67 1952-01-01\n",
       "3  1953     1   26.74 1953-01-01\n",
       "4  1954     1   26.98 1954-01-01"
      ]
     },
     "execution_count": 6,
     "metadata": {},
     "output_type": "execute_result"
    }
   ],
   "source": [
    "nino34.head()"
   ]
  },
  {
   "cell_type": "code",
   "execution_count": 7,
   "id": "d3ee864b",
   "metadata": {
    "ExecuteTime": {
     "end_time": "2022-01-09T14:34:49.781684Z",
     "start_time": "2022-01-09T14:34:49.580219Z"
    }
   },
   "outputs": [],
   "source": [
    "palm = pd.read_excel('PALMOIL_NINO.xlsx', sheet_name = 'PALMOIL')"
   ]
  },
  {
   "cell_type": "code",
   "execution_count": 8,
   "id": "4adae069",
   "metadata": {
    "ExecuteTime": {
     "end_time": "2022-01-07T16:09:54.605562Z",
     "start_time": "2022-01-07T16:09:54.589612Z"
    },
    "deletable": false,
    "editable": false,
    "run_control": {
     "frozen": true
    }
   },
   "outputs": [
    {
     "data": {
      "text/html": [
       "<div>\n",
       "<style scoped>\n",
       "    .dataframe tbody tr th:only-of-type {\n",
       "        vertical-align: middle;\n",
       "    }\n",
       "\n",
       "    .dataframe tbody tr th {\n",
       "        vertical-align: top;\n",
       "    }\n",
       "\n",
       "    .dataframe thead th {\n",
       "        text-align: right;\n",
       "    }\n",
       "</style>\n",
       "<table border=\"1\" class=\"dataframe\">\n",
       "  <thead>\n",
       "    <tr style=\"text-align: right;\">\n",
       "      <th></th>\n",
       "      <th>DATE</th>\n",
       "      <th>PPOILUSDM</th>\n",
       "    </tr>\n",
       "  </thead>\n",
       "  <tbody>\n",
       "    <tr>\n",
       "      <th>0</th>\n",
       "      <td>1990-01-01</td>\n",
       "      <td>230.555951</td>\n",
       "    </tr>\n",
       "    <tr>\n",
       "      <th>1</th>\n",
       "      <td>1990-02-01</td>\n",
       "      <td>223.945027</td>\n",
       "    </tr>\n",
       "    <tr>\n",
       "      <th>2</th>\n",
       "      <td>1990-03-01</td>\n",
       "      <td>236.340508</td>\n",
       "    </tr>\n",
       "    <tr>\n",
       "      <th>3</th>\n",
       "      <td>1990-04-01</td>\n",
       "      <td>220.639566</td>\n",
       "    </tr>\n",
       "    <tr>\n",
       "      <th>4</th>\n",
       "      <td>1990-05-01</td>\n",
       "      <td>232.208682</td>\n",
       "    </tr>\n",
       "  </tbody>\n",
       "</table>\n",
       "</div>"
      ],
      "text/plain": [
       "        DATE   PPOILUSDM\n",
       "0 1990-01-01  230.555951\n",
       "1 1990-02-01  223.945027\n",
       "2 1990-03-01  236.340508\n",
       "3 1990-04-01  220.639566\n",
       "4 1990-05-01  232.208682"
      ]
     },
     "execution_count": 8,
     "metadata": {},
     "output_type": "execute_result"
    }
   ],
   "source": [
    "palm.head()"
   ]
  },
  {
   "cell_type": "code",
   "execution_count": 8,
   "id": "9f3c296c",
   "metadata": {
    "ExecuteTime": {
     "end_time": "2022-01-09T14:34:49.801632Z",
     "start_time": "2022-01-09T14:34:49.789101Z"
    }
   },
   "outputs": [],
   "source": [
    "nino34.sort_values(by='DATE', inplace=True)"
   ]
  },
  {
   "cell_type": "code",
   "execution_count": 9,
   "id": "3e184907",
   "metadata": {
    "ExecuteTime": {
     "end_time": "2022-01-09T14:34:49.848541Z",
     "start_time": "2022-01-09T14:34:49.807694Z"
    }
   },
   "outputs": [
    {
     "data": {
      "text/html": [
       "<div>\n",
       "<style scoped>\n",
       "    .dataframe tbody tr th:only-of-type {\n",
       "        vertical-align: middle;\n",
       "    }\n",
       "\n",
       "    .dataframe tbody tr th {\n",
       "        vertical-align: top;\n",
       "    }\n",
       "\n",
       "    .dataframe thead th {\n",
       "        text-align: right;\n",
       "    }\n",
       "</style>\n",
       "<table border=\"1\" class=\"dataframe\">\n",
       "  <thead>\n",
       "    <tr style=\"text-align: right;\">\n",
       "      <th></th>\n",
       "      <th>year</th>\n",
       "      <th>month</th>\n",
       "      <th>nino34</th>\n",
       "      <th>DATE</th>\n",
       "    </tr>\n",
       "  </thead>\n",
       "  <tbody>\n",
       "    <tr>\n",
       "      <th>0</th>\n",
       "      <td>1950</td>\n",
       "      <td>1</td>\n",
       "      <td>24.55</td>\n",
       "      <td>1950-01-01</td>\n",
       "    </tr>\n",
       "    <tr>\n",
       "      <th>71</th>\n",
       "      <td>1950</td>\n",
       "      <td>2</td>\n",
       "      <td>25.06</td>\n",
       "      <td>1950-02-01</td>\n",
       "    </tr>\n",
       "    <tr>\n",
       "      <th>142</th>\n",
       "      <td>1950</td>\n",
       "      <td>3</td>\n",
       "      <td>25.87</td>\n",
       "      <td>1950-03-01</td>\n",
       "    </tr>\n",
       "    <tr>\n",
       "      <th>213</th>\n",
       "      <td>1950</td>\n",
       "      <td>4</td>\n",
       "      <td>26.28</td>\n",
       "      <td>1950-04-01</td>\n",
       "    </tr>\n",
       "    <tr>\n",
       "      <th>284</th>\n",
       "      <td>1950</td>\n",
       "      <td>5</td>\n",
       "      <td>26.18</td>\n",
       "      <td>1950-05-01</td>\n",
       "    </tr>\n",
       "    <tr>\n",
       "      <th>...</th>\n",
       "      <td>...</td>\n",
       "      <td>...</td>\n",
       "      <td>...</td>\n",
       "      <td>...</td>\n",
       "    </tr>\n",
       "    <tr>\n",
       "      <th>567</th>\n",
       "      <td>2020</td>\n",
       "      <td>8</td>\n",
       "      <td>26.26</td>\n",
       "      <td>2020-08-01</td>\n",
       "    </tr>\n",
       "    <tr>\n",
       "      <th>638</th>\n",
       "      <td>2020</td>\n",
       "      <td>9</td>\n",
       "      <td>25.89</td>\n",
       "      <td>2020-09-01</td>\n",
       "    </tr>\n",
       "    <tr>\n",
       "      <th>709</th>\n",
       "      <td>2020</td>\n",
       "      <td>10</td>\n",
       "      <td>25.46</td>\n",
       "      <td>2020-10-01</td>\n",
       "    </tr>\n",
       "    <tr>\n",
       "      <th>780</th>\n",
       "      <td>2020</td>\n",
       "      <td>11</td>\n",
       "      <td>25.28</td>\n",
       "      <td>2020-11-01</td>\n",
       "    </tr>\n",
       "    <tr>\n",
       "      <th>851</th>\n",
       "      <td>2020</td>\n",
       "      <td>12</td>\n",
       "      <td>25.44</td>\n",
       "      <td>2020-12-01</td>\n",
       "    </tr>\n",
       "  </tbody>\n",
       "</table>\n",
       "<p>852 rows × 4 columns</p>\n",
       "</div>"
      ],
      "text/plain": [
       "     year month  nino34       DATE\n",
       "0    1950     1   24.55 1950-01-01\n",
       "71   1950     2   25.06 1950-02-01\n",
       "142  1950     3   25.87 1950-03-01\n",
       "213  1950     4   26.28 1950-04-01\n",
       "284  1950     5   26.18 1950-05-01\n",
       "..    ...   ...     ...        ...\n",
       "567  2020     8   26.26 2020-08-01\n",
       "638  2020     9   25.89 2020-09-01\n",
       "709  2020    10   25.46 2020-10-01\n",
       "780  2020    11   25.28 2020-11-01\n",
       "851  2020    12   25.44 2020-12-01\n",
       "\n",
       "[852 rows x 4 columns]"
      ]
     },
     "execution_count": 9,
     "metadata": {},
     "output_type": "execute_result"
    }
   ],
   "source": [
    "nino34"
   ]
  },
  {
   "cell_type": "code",
   "execution_count": 10,
   "id": "85daf5c9",
   "metadata": {
    "ExecuteTime": {
     "end_time": "2022-01-09T14:34:49.881442Z",
     "start_time": "2022-01-09T14:34:49.853487Z"
    }
   },
   "outputs": [],
   "source": [
    "df = palm.merge(nino34, how='inner', on='DATE')"
   ]
  },
  {
   "cell_type": "code",
   "execution_count": 11,
   "id": "83cde0e2",
   "metadata": {
    "ExecuteTime": {
     "end_time": "2022-01-09T14:34:49.918399Z",
     "start_time": "2022-01-09T14:34:49.886436Z"
    }
   },
   "outputs": [
    {
     "data": {
      "text/html": [
       "<div>\n",
       "<style scoped>\n",
       "    .dataframe tbody tr th:only-of-type {\n",
       "        vertical-align: middle;\n",
       "    }\n",
       "\n",
       "    .dataframe tbody tr th {\n",
       "        vertical-align: top;\n",
       "    }\n",
       "\n",
       "    .dataframe thead th {\n",
       "        text-align: right;\n",
       "    }\n",
       "</style>\n",
       "<table border=\"1\" class=\"dataframe\">\n",
       "  <thead>\n",
       "    <tr style=\"text-align: right;\">\n",
       "      <th></th>\n",
       "      <th>DATE</th>\n",
       "      <th>PPOILUSDM</th>\n",
       "      <th>year</th>\n",
       "      <th>month</th>\n",
       "      <th>nino34</th>\n",
       "    </tr>\n",
       "  </thead>\n",
       "  <tbody>\n",
       "    <tr>\n",
       "      <th>0</th>\n",
       "      <td>1990-01-01</td>\n",
       "      <td>230.555951</td>\n",
       "      <td>1990</td>\n",
       "      <td>1</td>\n",
       "      <td>26.56</td>\n",
       "    </tr>\n",
       "    <tr>\n",
       "      <th>1</th>\n",
       "      <td>1990-02-01</td>\n",
       "      <td>223.945027</td>\n",
       "      <td>1990</td>\n",
       "      <td>2</td>\n",
       "      <td>26.96</td>\n",
       "    </tr>\n",
       "    <tr>\n",
       "      <th>2</th>\n",
       "      <td>1990-03-01</td>\n",
       "      <td>236.340508</td>\n",
       "      <td>1990</td>\n",
       "      <td>3</td>\n",
       "      <td>27.33</td>\n",
       "    </tr>\n",
       "    <tr>\n",
       "      <th>3</th>\n",
       "      <td>1990-04-01</td>\n",
       "      <td>220.639566</td>\n",
       "      <td>1990</td>\n",
       "      <td>4</td>\n",
       "      <td>27.90</td>\n",
       "    </tr>\n",
       "    <tr>\n",
       "      <th>4</th>\n",
       "      <td>1990-05-01</td>\n",
       "      <td>232.208682</td>\n",
       "      <td>1990</td>\n",
       "      <td>5</td>\n",
       "      <td>28.02</td>\n",
       "    </tr>\n",
       "  </tbody>\n",
       "</table>\n",
       "</div>"
      ],
      "text/plain": [
       "        DATE   PPOILUSDM  year month  nino34\n",
       "0 1990-01-01  230.555951  1990     1   26.56\n",
       "1 1990-02-01  223.945027  1990     2   26.96\n",
       "2 1990-03-01  236.340508  1990     3   27.33\n",
       "3 1990-04-01  220.639566  1990     4   27.90\n",
       "4 1990-05-01  232.208682  1990     5   28.02"
      ]
     },
     "execution_count": 11,
     "metadata": {},
     "output_type": "execute_result"
    }
   ],
   "source": [
    "df.head()"
   ]
  },
  {
   "cell_type": "code",
   "execution_count": 15,
   "id": "c6db176f",
   "metadata": {
    "ExecuteTime": {
     "end_time": "2022-01-09T14:39:51.453420Z",
     "start_time": "2022-01-09T14:39:51.448431Z"
    }
   },
   "outputs": [],
   "source": [
    "def cross_corr(x, y, lag):\n",
    "    return x.corr(y.shift(periods=lag))"
   ]
  },
  {
   "cell_type": "code",
   "execution_count": 16,
   "id": "df76dd6c",
   "metadata": {
    "ExecuteTime": {
     "end_time": "2022-01-09T14:39:52.349023Z",
     "start_time": "2022-01-09T14:39:52.257267Z"
    }
   },
   "outputs": [],
   "source": [
    "nino_palm = [cross_corr(df['nino34'], df['PPOILUSDM'], lag=i) for i in range(11)]"
   ]
  },
  {
   "cell_type": "code",
   "execution_count": 17,
   "id": "5efc15e9",
   "metadata": {
    "ExecuteTime": {
     "end_time": "2022-01-09T14:39:56.018339Z",
     "start_time": "2022-01-09T14:39:56.008806Z"
    }
   },
   "outputs": [
    {
     "data": {
      "text/plain": [
       "[-0.21675263133024048,\n",
       " -0.20253883130439404,\n",
       " -0.19380269182779428,\n",
       " -0.19278913127223007,\n",
       " -0.19700558798400838,\n",
       " -0.20681770164090657,\n",
       " -0.22015411305560378,\n",
       " -0.23270991032707555,\n",
       " -0.24177752934728391,\n",
       " -0.23942538558846838,\n",
       " -0.2217716573264046]"
      ]
     },
     "execution_count": 17,
     "metadata": {},
     "output_type": "execute_result"
    }
   ],
   "source": [
    "nino_palm"
   ]
  },
  {
   "cell_type": "code",
   "execution_count": 20,
   "id": "94d20413",
   "metadata": {
    "ExecuteTime": {
     "end_time": "2022-01-09T14:44:53.529667Z",
     "start_time": "2022-01-09T14:44:53.524676Z"
    }
   },
   "outputs": [],
   "source": [
    "import matplotlib.pyplot as plt"
   ]
  },
  {
   "cell_type": "code",
   "execution_count": 25,
   "id": "ca471a1c",
   "metadata": {
    "ExecuteTime": {
     "end_time": "2022-01-09T14:50:25.892153Z",
     "start_time": "2022-01-09T14:50:24.962590Z"
    }
   },
   "outputs": [
    {
     "name": "stderr",
     "output_type": "stream",
     "text": [
      "<ipython-input-25-46f285eb9aa4>:4: UserWarning: FixedFormatter should only be used together with FixedLocator\n",
      "  ax.set_xticklabels(df['DATE'], rotation=90)\n"
     ]
    },
    {
     "data": {
      "text/plain": [
       "[Text(-50.0, 0, '1990-01-01 00:00:00'),\n",
       " Text(0.0, 0, '1990-02-01 00:00:00'),\n",
       " Text(50.0, 0, '1990-03-01 00:00:00'),\n",
       " Text(100.0, 0, '1990-04-01 00:00:00'),\n",
       " Text(150.0, 0, '1990-05-01 00:00:00'),\n",
       " Text(200.0, 0, '1990-06-01 00:00:00'),\n",
       " Text(250.0, 0, '1990-07-01 00:00:00'),\n",
       " Text(300.0, 0, '1990-08-01 00:00:00'),\n",
       " Text(350.0, 0, '1990-09-01 00:00:00'),\n",
       " Text(400.0, 0, '1990-10-01 00:00:00')]"
      ]
     },
     "execution_count": 25,
     "metadata": {},
     "output_type": "execute_result"
    },
    {
     "data": {
      "image/png": "[encoded data removed]",
      "text/plain": [
       "<Figure size 432x288 with 2 Axes>"
      ]
     },
     "metadata": {
      "needs_background": "light"
     },
     "output_type": "display_data"
    }
   ],
   "source": [
    "fig, ax = plt.subplots()\n",
    "df.nino34.plot(ax=ax, style='r-')\n",
    "df.PPOILUSDM.plot(ax=ax, style='b-', secondary_y=True)\n",
    "ax.set_xticklabels(df['DATE'], rotation=90)"
   ]
  },
  {
   "cell_type": "code",
   "execution_count": null,
   "id": "3c8c4aa0",
   "metadata": {},
   "outputs": [],
   "source": []
  }
 ],
 "metadata": {
  "kernelspec": {
   "display_name": "Python 3",
   "language": "python",
   "name": "python3"
  },
  "language_info": {
   "codemirror_mode": {
    "name": "ipython",
    "version": 3
   },
   "file_extension": ".py",
   "mimetype": "text/x-python",
   "name": "python",
   "nbconvert_exporter": "python",
   "pygments_lexer": "ipython3",
   "version": "3.8.8"
  }
 },
 "nbformat": 4,
 "nbformat_minor": 5
}
