{
 "cells": [
  {
   "cell_type": "markdown",
   "id": "52efb831",
   "metadata": {},
   "source": [
    "# 데이터 처리\n",
    "## investing.com\n",
    "### JOIN 데이터 불러오기"
   ]
  },
  {
   "cell_type": "code",
   "execution_count": 2,
   "id": "2c6416a6",
   "metadata": {},
   "outputs": [],
   "source": [
    "import pandas as pd\n",
    "import numpy as np"
   ]
  },
  {
   "cell_type": "code",
   "execution_count": null,
   "id": "e3080fdf",
   "metadata": {
    "deletable": false,
    "editable": false,
    "run_control": {
     "frozen": true
    }
   },
   "outputs": [],
   "source": [
    "data_df = pd.read_excel('palm_nino_concat.xlsx')"
   ]
  },
  {
   "cell_type": "code",
   "execution_count": null,
   "id": "c5a9d52a",
   "metadata": {
    "deletable": false,
    "editable": false,
    "run_control": {
     "frozen": true
    }
   },
   "outputs": [],
   "source": [
    "data_df.head()"
   ]
  },
  {
   "cell_type": "markdown",
   "id": "3fdd5abc",
   "metadata": {},
   "source": [
    "### 데이터 선택\n",
    "2008년 이전 데이터는 불연속적이므로 2008년 이후만 사용한다."
   ]
  },
  {
   "cell_type": "code",
   "execution_count": null,
   "id": "78ed7fe9",
   "metadata": {
    "deletable": false,
    "editable": false,
    "run_control": {
     "frozen": true
    }
   },
   "outputs": [],
   "source": [
    "df = data_df.query('YEAR > 2007')"
   ]
  },
  {
   "cell_type": "code",
   "execution_count": null,
   "id": "2dbbc78e",
   "metadata": {
    "deletable": false,
    "editable": false,
    "run_control": {
     "frozen": true
    }
   },
   "outputs": [],
   "source": [
    "df"
   ]
  },
  {
   "cell_type": "markdown",
   "id": "33c9a57d",
   "metadata": {},
   "source": [
    "### 인덱스, 열 처리"
   ]
  },
  {
   "cell_type": "code",
   "execution_count": null,
   "id": "f1a53e7b",
   "metadata": {
    "deletable": false,
    "editable": false,
    "run_control": {
     "frozen": true
    }
   },
   "outputs": [],
   "source": [
    "df.set_index('DATE', inplace = True)"
   ]
  },
  {
   "cell_type": "code",
   "execution_count": null,
   "id": "1081d190",
   "metadata": {
    "deletable": false,
    "editable": false,
    "run_control": {
     "frozen": true
    }
   },
   "outputs": [],
   "source": [
    "df.drop(columns = ['YEAR', 'MONTH', 'year', 'month'], inplace = True)"
   ]
  },
  {
   "cell_type": "code",
   "execution_count": null,
   "id": "7edb538b",
   "metadata": {
    "deletable": false,
    "editable": false,
    "run_control": {
     "frozen": true
    }
   },
   "outputs": [],
   "source": [
    "df.head()"
   ]
  },
  {
   "cell_type": "markdown",
   "id": "86eb8f4d",
   "metadata": {},
   "source": [
    "## KIS"
   ]
  },
  {
   "cell_type": "markdown",
   "id": "cbf10993",
   "metadata": {},
   "source": [
    "### KIS 팜유-nino3.4 JOIN 데이터 만들기"
   ]
  },
  {
   "cell_type": "code",
   "execution_count": 3,
   "id": "a5c57391",
   "metadata": {},
   "outputs": [],
   "source": [
    "palm_df = pd.read_excel('PALMOIL_FUTURE-KIS.xlsx')\n",
    "nino34_df = pd.read_excel('nino34.xlsx', sheet_name = 'Nino3.4')"
   ]
  },
  {
   "cell_type": "code",
   "execution_count": 4,
   "id": "a752cd09",
   "metadata": {},
   "outputs": [],
   "source": [
    "nino34_df = pd.melt(nino34_df, id_vars=['year'], value_vars=list(nino34_df.columns.values)[1:], var_name='month', value_name='nino34')"
   ]
  },
  {
   "cell_type": "code",
   "execution_count": 5,
   "id": "e5b09c90",
   "metadata": {},
   "outputs": [
    {
     "data": {
      "text/html": [
       "<div>\n",
       "<style scoped>\n",
       "    .dataframe tbody tr th:only-of-type {\n",
       "        vertical-align: middle;\n",
       "    }\n",
       "\n",
       "    .dataframe tbody tr th {\n",
       "        vertical-align: top;\n",
       "    }\n",
       "\n",
       "    .dataframe thead th {\n",
       "        text-align: right;\n",
       "    }\n",
       "</style>\n",
       "<table border=\"1\" class=\"dataframe\">\n",
       "  <thead>\n",
       "    <tr style=\"text-align: right;\">\n",
       "      <th></th>\n",
       "      <th>year</th>\n",
       "      <th>month</th>\n",
       "      <th>nino34</th>\n",
       "    </tr>\n",
       "  </thead>\n",
       "  <tbody>\n",
       "    <tr>\n",
       "      <th>0</th>\n",
       "      <td>1950</td>\n",
       "      <td>1</td>\n",
       "      <td>24.55</td>\n",
       "    </tr>\n",
       "    <tr>\n",
       "      <th>1</th>\n",
       "      <td>1951</td>\n",
       "      <td>1</td>\n",
       "      <td>25.24</td>\n",
       "    </tr>\n",
       "    <tr>\n",
       "      <th>2</th>\n",
       "      <td>1952</td>\n",
       "      <td>1</td>\n",
       "      <td>26.67</td>\n",
       "    </tr>\n",
       "    <tr>\n",
       "      <th>3</th>\n",
       "      <td>1953</td>\n",
       "      <td>1</td>\n",
       "      <td>26.74</td>\n",
       "    </tr>\n",
       "    <tr>\n",
       "      <th>4</th>\n",
       "      <td>1954</td>\n",
       "      <td>1</td>\n",
       "      <td>26.98</td>\n",
       "    </tr>\n",
       "  </tbody>\n",
       "</table>\n",
       "</div>"
      ],
      "text/plain": [
       "   year month  nino34\n",
       "0  1950     1   24.55\n",
       "1  1951     1   25.24\n",
       "2  1952     1   26.67\n",
       "3  1953     1   26.74\n",
       "4  1954     1   26.98"
      ]
     },
     "execution_count": 5,
     "metadata": {},
     "output_type": "execute_result"
    }
   ],
   "source": [
    "nino34_df.head()"
   ]
  },
  {
   "cell_type": "code",
   "execution_count": 6,
   "id": "494a96bb",
   "metadata": {},
   "outputs": [],
   "source": [
    "nino34_df['DATE'] = pd.to_datetime(nino34_df[['year', 'month']].assign(DAY=1))\n",
    "nino34_df.sort_values(by='DATE', inplace=True)"
   ]
  },
  {
   "cell_type": "code",
   "execution_count": 7,
   "id": "58640cf5",
   "metadata": {},
   "outputs": [
    {
     "data": {
      "text/html": [
       "<div>\n",
       "<style scoped>\n",
       "    .dataframe tbody tr th:only-of-type {\n",
       "        vertical-align: middle;\n",
       "    }\n",
       "\n",
       "    .dataframe tbody tr th {\n",
       "        vertical-align: top;\n",
       "    }\n",
       "\n",
       "    .dataframe thead th {\n",
       "        text-align: right;\n",
       "    }\n",
       "</style>\n",
       "<table border=\"1\" class=\"dataframe\">\n",
       "  <thead>\n",
       "    <tr style=\"text-align: right;\">\n",
       "      <th></th>\n",
       "      <th>year</th>\n",
       "      <th>month</th>\n",
       "      <th>nino34</th>\n",
       "      <th>DATE</th>\n",
       "    </tr>\n",
       "  </thead>\n",
       "  <tbody>\n",
       "    <tr>\n",
       "      <th>0</th>\n",
       "      <td>1950</td>\n",
       "      <td>1</td>\n",
       "      <td>24.55</td>\n",
       "      <td>1950-01-01</td>\n",
       "    </tr>\n",
       "    <tr>\n",
       "      <th>72</th>\n",
       "      <td>1950</td>\n",
       "      <td>2</td>\n",
       "      <td>25.06</td>\n",
       "      <td>1950-02-01</td>\n",
       "    </tr>\n",
       "    <tr>\n",
       "      <th>144</th>\n",
       "      <td>1950</td>\n",
       "      <td>3</td>\n",
       "      <td>25.87</td>\n",
       "      <td>1950-03-01</td>\n",
       "    </tr>\n",
       "    <tr>\n",
       "      <th>216</th>\n",
       "      <td>1950</td>\n",
       "      <td>4</td>\n",
       "      <td>26.28</td>\n",
       "      <td>1950-04-01</td>\n",
       "    </tr>\n",
       "    <tr>\n",
       "      <th>288</th>\n",
       "      <td>1950</td>\n",
       "      <td>5</td>\n",
       "      <td>26.18</td>\n",
       "      <td>1950-05-01</td>\n",
       "    </tr>\n",
       "  </tbody>\n",
       "</table>\n",
       "</div>"
      ],
      "text/plain": [
       "     year month  nino34       DATE\n",
       "0    1950     1   24.55 1950-01-01\n",
       "72   1950     2   25.06 1950-02-01\n",
       "144  1950     3   25.87 1950-03-01\n",
       "216  1950     4   26.28 1950-04-01\n",
       "288  1950     5   26.18 1950-05-01"
      ]
     },
     "execution_count": 7,
     "metadata": {},
     "output_type": "execute_result"
    }
   ],
   "source": [
    "nino34_df.head()"
   ]
  },
  {
   "cell_type": "code",
   "execution_count": 8,
   "id": "9dd1f474",
   "metadata": {},
   "outputs": [],
   "source": [
    "palm_df.rename(columns = {'기간(월)': 'DATE'}, inplace = True)"
   ]
  },
  {
   "cell_type": "code",
   "execution_count": 9,
   "id": "5938b974",
   "metadata": {},
   "outputs": [
    {
     "data": {
      "text/html": [
       "<div>\n",
       "<style scoped>\n",
       "    .dataframe tbody tr th:only-of-type {\n",
       "        vertical-align: middle;\n",
       "    }\n",
       "\n",
       "    .dataframe tbody tr th {\n",
       "        vertical-align: top;\n",
       "    }\n",
       "\n",
       "    .dataframe thead th {\n",
       "        text-align: right;\n",
       "    }\n",
       "</style>\n",
       "<table border=\"1\" class=\"dataframe\">\n",
       "  <thead>\n",
       "    <tr style=\"text-align: right;\">\n",
       "      <th></th>\n",
       "      <th>DATE</th>\n",
       "      <th>평균가</th>\n",
       "      <th>전년동월평균가</th>\n",
       "      <th>전년도동월대비</th>\n",
       "      <th>등락률(%)</th>\n",
       "      <th>종가</th>\n",
       "      <th>환산가($/ton)</th>\n",
       "    </tr>\n",
       "  </thead>\n",
       "  <tbody>\n",
       "    <tr>\n",
       "      <th>0</th>\n",
       "      <td>2022-01-01</td>\n",
       "      <td>4857.00</td>\n",
       "      <td>3522.47</td>\n",
       "      <td>▲  1,334.53</td>\n",
       "      <td>37.89</td>\n",
       "      <td>4857.0</td>\n",
       "      <td>1165.88</td>\n",
       "    </tr>\n",
       "    <tr>\n",
       "      <th>1</th>\n",
       "      <td>2021-12-01</td>\n",
       "      <td>4632.82</td>\n",
       "      <td>3438.73</td>\n",
       "      <td>▲  1,194.09</td>\n",
       "      <td>34.72</td>\n",
       "      <td>4697.0</td>\n",
       "      <td>1109.26</td>\n",
       "    </tr>\n",
       "    <tr>\n",
       "      <th>2</th>\n",
       "      <td>2021-11-01</td>\n",
       "      <td>4903.86</td>\n",
       "      <td>3257.95</td>\n",
       "      <td>▲  1,645.91</td>\n",
       "      <td>50.52</td>\n",
       "      <td>4672.0</td>\n",
       "      <td>1156.97</td>\n",
       "    </tr>\n",
       "    <tr>\n",
       "      <th>3</th>\n",
       "      <td>2021-10-01</td>\n",
       "      <td>4911.41</td>\n",
       "      <td>2910.81</td>\n",
       "      <td>▲  2,000.60</td>\n",
       "      <td>68.73</td>\n",
       "      <td>4929.0</td>\n",
       "      <td>1182.21</td>\n",
       "    </tr>\n",
       "    <tr>\n",
       "      <th>4</th>\n",
       "      <td>2021-09-01</td>\n",
       "      <td>4379.61</td>\n",
       "      <td>2859.14</td>\n",
       "      <td>▲  1,520.47</td>\n",
       "      <td>53.18</td>\n",
       "      <td>4595.0</td>\n",
       "      <td>1046.57</td>\n",
       "    </tr>\n",
       "  </tbody>\n",
       "</table>\n",
       "</div>"
      ],
      "text/plain": [
       "        DATE      평균가  전년동월평균가      전년도동월대비  등락률(%)      종가  환산가($/ton)\n",
       "0 2022-01-01  4857.00  3522.47  ▲  1,334.53   37.89  4857.0     1165.88\n",
       "1 2021-12-01  4632.82  3438.73  ▲  1,194.09   34.72  4697.0     1109.26\n",
       "2 2021-11-01  4903.86  3257.95  ▲  1,645.91   50.52  4672.0     1156.97\n",
       "3 2021-10-01  4911.41  2910.81  ▲  2,000.60   68.73  4929.0     1182.21\n",
       "4 2021-09-01  4379.61  2859.14  ▲  1,520.47   53.18  4595.0     1046.57"
      ]
     },
     "execution_count": 9,
     "metadata": {},
     "output_type": "execute_result"
    }
   ],
   "source": [
    "palm_df.head()"
   ]
  },
  {
   "cell_type": "code",
   "execution_count": 10,
   "id": "85a5280e",
   "metadata": {},
   "outputs": [
    {
     "name": "stdout",
     "output_type": "stream",
     "text": [
      "864\n",
      "135\n"
     ]
    }
   ],
   "source": [
    "print(len(nino34_df))\n",
    "print(len(palm_df))"
   ]
  },
  {
   "cell_type": "code",
   "execution_count": 11,
   "id": "31494b67",
   "metadata": {},
   "outputs": [],
   "source": [
    "df = palm_df.merge(nino34_df, how = 'inner', on = 'DATE')"
   ]
  },
  {
   "cell_type": "code",
   "execution_count": 12,
   "id": "dc3e4010",
   "metadata": {},
   "outputs": [
    {
     "data": {
      "text/plain": [
       "134"
      ]
     },
     "execution_count": 12,
     "metadata": {},
     "output_type": "execute_result"
    }
   ],
   "source": [
    "len(df)"
   ]
  },
  {
   "cell_type": "code",
   "execution_count": 14,
   "id": "0eb526c2",
   "metadata": {},
   "outputs": [
    {
     "data": {
      "text/html": [
       "<div>\n",
       "<style scoped>\n",
       "    .dataframe tbody tr th:only-of-type {\n",
       "        vertical-align: middle;\n",
       "    }\n",
       "\n",
       "    .dataframe tbody tr th {\n",
       "        vertical-align: top;\n",
       "    }\n",
       "\n",
       "    .dataframe thead th {\n",
       "        text-align: right;\n",
       "    }\n",
       "</style>\n",
       "<table border=\"1\" class=\"dataframe\">\n",
       "  <thead>\n",
       "    <tr style=\"text-align: right;\">\n",
       "      <th></th>\n",
       "      <th>DATE</th>\n",
       "      <th>평균가</th>\n",
       "      <th>전년동월평균가</th>\n",
       "      <th>전년도동월대비</th>\n",
       "      <th>등락률(%)</th>\n",
       "      <th>종가</th>\n",
       "      <th>환산가($/ton)</th>\n",
       "      <th>year</th>\n",
       "      <th>month</th>\n",
       "      <th>nino34</th>\n",
       "    </tr>\n",
       "  </thead>\n",
       "  <tbody>\n",
       "    <tr>\n",
       "      <th>133</th>\n",
       "      <td>2010-11-01</td>\n",
       "      <td>3257.68</td>\n",
       "      <td>0.00</td>\n",
       "      <td>▲  3,257.68</td>\n",
       "      <td>0.00</td>\n",
       "      <td>3412.0</td>\n",
       "      <td>NaN</td>\n",
       "      <td>2010</td>\n",
       "      <td>11</td>\n",
       "      <td>25.06</td>\n",
       "    </tr>\n",
       "    <tr>\n",
       "      <th>132</th>\n",
       "      <td>2010-12-01</td>\n",
       "      <td>3626.81</td>\n",
       "      <td>0.00</td>\n",
       "      <td>▲  3,626.81</td>\n",
       "      <td>0.00</td>\n",
       "      <td>3788.0</td>\n",
       "      <td>NaN</td>\n",
       "      <td>2010</td>\n",
       "      <td>12</td>\n",
       "      <td>25.00</td>\n",
       "    </tr>\n",
       "    <tr>\n",
       "      <th>131</th>\n",
       "      <td>2011-01-01</td>\n",
       "      <td>3741.47</td>\n",
       "      <td>0.00</td>\n",
       "      <td>▲  3,741.47</td>\n",
       "      <td>0.00</td>\n",
       "      <td>3809.0</td>\n",
       "      <td>NaN</td>\n",
       "      <td>2011</td>\n",
       "      <td>1</td>\n",
       "      <td>25.00</td>\n",
       "    </tr>\n",
       "    <tr>\n",
       "      <th>130</th>\n",
       "      <td>2011-02-01</td>\n",
       "      <td>3750.43</td>\n",
       "      <td>0.00</td>\n",
       "      <td>▲  3,750.43</td>\n",
       "      <td>0.00</td>\n",
       "      <td>3515.0</td>\n",
       "      <td>NaN</td>\n",
       "      <td>2011</td>\n",
       "      <td>2</td>\n",
       "      <td>25.64</td>\n",
       "    </tr>\n",
       "    <tr>\n",
       "      <th>129</th>\n",
       "      <td>2011-03-01</td>\n",
       "      <td>3424.65</td>\n",
       "      <td>0.00</td>\n",
       "      <td>▲  3,424.65</td>\n",
       "      <td>0.00</td>\n",
       "      <td>3326.0</td>\n",
       "      <td>NaN</td>\n",
       "      <td>2011</td>\n",
       "      <td>3</td>\n",
       "      <td>26.36</td>\n",
       "    </tr>\n",
       "    <tr>\n",
       "      <th>...</th>\n",
       "      <td>...</td>\n",
       "      <td>...</td>\n",
       "      <td>...</td>\n",
       "      <td>...</td>\n",
       "      <td>...</td>\n",
       "      <td>...</td>\n",
       "      <td>...</td>\n",
       "      <td>...</td>\n",
       "      <td>...</td>\n",
       "      <td>...</td>\n",
       "    </tr>\n",
       "    <tr>\n",
       "      <th>4</th>\n",
       "      <td>2021-08-01</td>\n",
       "      <td>4307.95</td>\n",
       "      <td>2701.63</td>\n",
       "      <td>▲  1,606.32</td>\n",
       "      <td>59.46</td>\n",
       "      <td>4254.0</td>\n",
       "      <td>1028.16</td>\n",
       "      <td>2021</td>\n",
       "      <td>8</td>\n",
       "      <td>26.32</td>\n",
       "    </tr>\n",
       "    <tr>\n",
       "      <th>3</th>\n",
       "      <td>2021-09-01</td>\n",
       "      <td>4379.61</td>\n",
       "      <td>2859.14</td>\n",
       "      <td>▲  1,520.47</td>\n",
       "      <td>53.18</td>\n",
       "      <td>4595.0</td>\n",
       "      <td>1046.57</td>\n",
       "      <td>2021</td>\n",
       "      <td>9</td>\n",
       "      <td>26.16</td>\n",
       "    </tr>\n",
       "    <tr>\n",
       "      <th>2</th>\n",
       "      <td>2021-10-01</td>\n",
       "      <td>4911.41</td>\n",
       "      <td>2910.81</td>\n",
       "      <td>▲  2,000.60</td>\n",
       "      <td>68.73</td>\n",
       "      <td>4929.0</td>\n",
       "      <td>1182.21</td>\n",
       "      <td>2021</td>\n",
       "      <td>10</td>\n",
       "      <td>25.77</td>\n",
       "    </tr>\n",
       "    <tr>\n",
       "      <th>1</th>\n",
       "      <td>2021-11-01</td>\n",
       "      <td>4903.86</td>\n",
       "      <td>3257.95</td>\n",
       "      <td>▲  1,645.91</td>\n",
       "      <td>50.52</td>\n",
       "      <td>4672.0</td>\n",
       "      <td>1156.97</td>\n",
       "      <td>2021</td>\n",
       "      <td>11</td>\n",
       "      <td>25.76</td>\n",
       "    </tr>\n",
       "    <tr>\n",
       "      <th>0</th>\n",
       "      <td>2021-12-01</td>\n",
       "      <td>4632.82</td>\n",
       "      <td>3438.73</td>\n",
       "      <td>▲  1,194.09</td>\n",
       "      <td>34.72</td>\n",
       "      <td>4697.0</td>\n",
       "      <td>1109.26</td>\n",
       "      <td>2021</td>\n",
       "      <td>12</td>\n",
       "      <td>25.53</td>\n",
       "    </tr>\n",
       "  </tbody>\n",
       "</table>\n",
       "<p>134 rows × 10 columns</p>\n",
       "</div>"
      ],
      "text/plain": [
       "          DATE      평균가  전년동월평균가      전년도동월대비  등락률(%)      종가  환산가($/ton)  \\\n",
       "133 2010-11-01  3257.68     0.00  ▲  3,257.68    0.00  3412.0         NaN   \n",
       "132 2010-12-01  3626.81     0.00  ▲  3,626.81    0.00  3788.0         NaN   \n",
       "131 2011-01-01  3741.47     0.00  ▲  3,741.47    0.00  3809.0         NaN   \n",
       "130 2011-02-01  3750.43     0.00  ▲  3,750.43    0.00  3515.0         NaN   \n",
       "129 2011-03-01  3424.65     0.00  ▲  3,424.65    0.00  3326.0         NaN   \n",
       "..         ...      ...      ...          ...     ...     ...         ...   \n",
       "4   2021-08-01  4307.95  2701.63  ▲  1,606.32   59.46  4254.0     1028.16   \n",
       "3   2021-09-01  4379.61  2859.14  ▲  1,520.47   53.18  4595.0     1046.57   \n",
       "2   2021-10-01  4911.41  2910.81  ▲  2,000.60   68.73  4929.0     1182.21   \n",
       "1   2021-11-01  4903.86  3257.95  ▲  1,645.91   50.52  4672.0     1156.97   \n",
       "0   2021-12-01  4632.82  3438.73  ▲  1,194.09   34.72  4697.0     1109.26   \n",
       "\n",
       "     year month  nino34  \n",
       "133  2010    11   25.06  \n",
       "132  2010    12   25.00  \n",
       "131  2011     1   25.00  \n",
       "130  2011     2   25.64  \n",
       "129  2011     3   26.36  \n",
       "..    ...   ...     ...  \n",
       "4    2021     8   26.32  \n",
       "3    2021     9   26.16  \n",
       "2    2021    10   25.77  \n",
       "1    2021    11   25.76  \n",
       "0    2021    12   25.53  \n",
       "\n",
       "[134 rows x 10 columns]"
      ]
     },
     "execution_count": 14,
     "metadata": {},
     "output_type": "execute_result"
    }
   ],
   "source": [
    "df.sort_values(by = 'DATE', inplace = True)\n",
    "df"
   ]
  },
  {
   "cell_type": "markdown",
   "id": "3a083d32",
   "metadata": {},
   "source": [
    "### 인덱스, 열 처리"
   ]
  },
  {
   "cell_type": "code",
   "execution_count": 15,
   "id": "fe684801",
   "metadata": {},
   "outputs": [],
   "source": [
    "df.set_index('DATE', inplace = True)\n",
    "df.drop(columns = ['전년동월평균가', '전년도동월대비', 'year', 'month'], inplace = True)"
   ]
  },
  {
   "cell_type": "code",
   "execution_count": 16,
   "id": "1b00c8a5",
   "metadata": {},
   "outputs": [
    {
     "data": {
      "text/html": [
       "<div>\n",
       "<style scoped>\n",
       "    .dataframe tbody tr th:only-of-type {\n",
       "        vertical-align: middle;\n",
       "    }\n",
       "\n",
       "    .dataframe tbody tr th {\n",
       "        vertical-align: top;\n",
       "    }\n",
       "\n",
       "    .dataframe thead th {\n",
       "        text-align: right;\n",
       "    }\n",
       "</style>\n",
       "<table border=\"1\" class=\"dataframe\">\n",
       "  <thead>\n",
       "    <tr style=\"text-align: right;\">\n",
       "      <th></th>\n",
       "      <th>평균가</th>\n",
       "      <th>등락률(%)</th>\n",
       "      <th>종가</th>\n",
       "      <th>환산가($/ton)</th>\n",
       "      <th>nino34</th>\n",
       "    </tr>\n",
       "    <tr>\n",
       "      <th>DATE</th>\n",
       "      <th></th>\n",
       "      <th></th>\n",
       "      <th></th>\n",
       "      <th></th>\n",
       "      <th></th>\n",
       "    </tr>\n",
       "  </thead>\n",
       "  <tbody>\n",
       "    <tr>\n",
       "      <th>2021-08-01</th>\n",
       "      <td>4307.95</td>\n",
       "      <td>59.46</td>\n",
       "      <td>4254.0</td>\n",
       "      <td>1028.16</td>\n",
       "      <td>26.32</td>\n",
       "    </tr>\n",
       "    <tr>\n",
       "      <th>2021-09-01</th>\n",
       "      <td>4379.61</td>\n",
       "      <td>53.18</td>\n",
       "      <td>4595.0</td>\n",
       "      <td>1046.57</td>\n",
       "      <td>26.16</td>\n",
       "    </tr>\n",
       "    <tr>\n",
       "      <th>2021-10-01</th>\n",
       "      <td>4911.41</td>\n",
       "      <td>68.73</td>\n",
       "      <td>4929.0</td>\n",
       "      <td>1182.21</td>\n",
       "      <td>25.77</td>\n",
       "    </tr>\n",
       "    <tr>\n",
       "      <th>2021-11-01</th>\n",
       "      <td>4903.86</td>\n",
       "      <td>50.52</td>\n",
       "      <td>4672.0</td>\n",
       "      <td>1156.97</td>\n",
       "      <td>25.76</td>\n",
       "    </tr>\n",
       "    <tr>\n",
       "      <th>2021-12-01</th>\n",
       "      <td>4632.82</td>\n",
       "      <td>34.72</td>\n",
       "      <td>4697.0</td>\n",
       "      <td>1109.26</td>\n",
       "      <td>25.53</td>\n",
       "    </tr>\n",
       "  </tbody>\n",
       "</table>\n",
       "</div>"
      ],
      "text/plain": [
       "                평균가  등락률(%)      종가  환산가($/ton)  nino34\n",
       "DATE                                                   \n",
       "2021-08-01  4307.95   59.46  4254.0     1028.16   26.32\n",
       "2021-09-01  4379.61   53.18  4595.0     1046.57   26.16\n",
       "2021-10-01  4911.41   68.73  4929.0     1182.21   25.77\n",
       "2021-11-01  4903.86   50.52  4672.0     1156.97   25.76\n",
       "2021-12-01  4632.82   34.72  4697.0     1109.26   25.53"
      ]
     },
     "execution_count": 16,
     "metadata": {},
     "output_type": "execute_result"
    }
   ],
   "source": [
    "df.tail()"
   ]
  },
  {
   "cell_type": "markdown",
   "id": "3807c984",
   "metadata": {},
   "source": [
    "# 분석\n",
    "## 가시화"
   ]
  },
  {
   "cell_type": "code",
   "execution_count": 17,
   "id": "60f6ba52",
   "metadata": {},
   "outputs": [],
   "source": [
    "import matplotlib.pyplot as plt"
   ]
  },
  {
   "cell_type": "code",
   "execution_count": 18,
   "id": "c72d8bab",
   "metadata": {},
   "outputs": [
    {
     "data": {
      "text/plain": [
       "<AxesSubplot:label='3ac84116-4207-40b1-89e7-5c6feb3c4525'>"
      ]
     },
     "execution_count": 18,
     "metadata": {},
     "output_type": "execute_result"
    },
    {
     "data": {
      "image/png": "[encoded data removed]",
      "text/plain": [
       "<Figure size 432x288 with 2 Axes>"
      ]
     },
     "metadata": {
      "needs_background": "light"
     },
     "output_type": "display_data"
    }
   ],
   "source": [
    "plt.figure()\n",
    "df.종가.plot(style = 'b-')\n",
    "df.nino34.plot(secondary_y = True, style = 'r')"
   ]
  },
  {
   "cell_type": "markdown",
   "id": "eab86d8b",
   "metadata": {},
   "source": [
    "## Cross-Correlation"
   ]
  },
  {
   "cell_type": "code",
   "execution_count": 19,
   "id": "d9b6e3be",
   "metadata": {},
   "outputs": [],
   "source": [
    "def cross_corr(x, y, lag):\n",
    "    return x.corr(y.shift(periods=lag))"
   ]
  },
  {
   "cell_type": "code",
   "execution_count": 20,
   "id": "9402da84",
   "metadata": {},
   "outputs": [
    {
     "data": {
      "text/plain": [
       "[-0.5160620328289677,\n",
       " -0.4787420187571255,\n",
       " -0.42810203598664215,\n",
       " -0.37779219556015226,\n",
       " -0.3319495422811955,\n",
       " -0.3242463216328173,\n",
       " -0.3486498175278745,\n",
       " -0.4088786906448838,\n",
       " -0.47505933996253524,\n",
       " -0.5200528800247579,\n",
       " -0.537773756865121,\n",
       " -0.5052713174917699,\n",
       " -0.4387044949441734]"
      ]
     },
     "execution_count": 20,
     "metadata": {},
     "output_type": "execute_result"
    }
   ],
   "source": [
    "cc = [cross_corr(df['nino34'], df['종가'], lag=i) for i in range(13)]\n",
    "cc"
   ]
  },
  {
   "cell_type": "markdown",
   "id": "a150d587",
   "metadata": {},
   "source": [
    "## Random Forest Regression\n",
    "### 예측 데이터셋 생성\n",
    "snippet from: https://machinelearningmastery.com/convert-time-series-supervised-learning-problem-python/"
   ]
  },
  {
   "cell_type": "code",
   "execution_count": 30,
   "id": "5ec48701",
   "metadata": {
    "code_folding": [
     0
    ],
    "deletable": false,
    "editable": false,
    "run_control": {
     "frozen": true
    }
   },
   "outputs": [],
   "source": [
    "def series_to_supervised(data, n_in=1, n_out=1, dropnan=True):\n",
    "    \"\"\"\n",
    "    Frame a time series as a supervised learning dataset.\n",
    "    Arguments:\n",
    "        data: Sequence of observations as a list or NumPy array.\n",
    "        n_in: Number of lag observations as input (X).\n",
    "        n_out: Number of observations as output (y).\n",
    "        dropnan: Boolean whether or not to drop rows with NaN values.\n",
    "    Returns:\n",
    "        Pandas DataFrame of series framed for supervised learning.\n",
    "    \"\"\"\n",
    "    n_vars = 1 if type(data) is list else data.shape[1]\n",
    "    df = pd.DataFrame(data)\n",
    "    cols, names = list(), list()\n",
    "    # input sequence (t-n, ... t-1)\n",
    "    for i in range(n_in, 0, -1):\n",
    "        cols.append(df.shift(i))\n",
    "        names += [('var%d(t-%d)' % (j+1, i)) for j in range(n_vars)]\n",
    "    # forecast sequence (t, t+1, ... t+n)\n",
    "    for i in range(0, n_out):\n",
    "        cols.append(df.shift(-i))\n",
    "        if i == 0:\n",
    "            names += [('var%d(t)' % (j+1)) for j in range(n_vars)]\n",
    "        else:\n",
    "            names += [('var%d(t+%d)' % (j+1, i)) for j in range(n_vars)]\n",
    "    # put it all together\n",
    "    agg = pd.concat(cols, axis=1)\n",
    "    agg.columns = names\n",
    "    # drop rows with NaN values\n",
    "    if dropnan:\n",
    "        agg.dropna(inplace=True)\n",
    "    return agg"
   ]
  },
  {
   "cell_type": "code",
   "execution_count": 32,
   "id": "e1573311",
   "metadata": {
    "deletable": false,
    "editable": false,
    "run_control": {
     "frozen": true
    }
   },
   "outputs": [],
   "source": [
    "values = df[['종가', 'nino34']].values\n",
    "data = series_to_supervised(values, n_in = 2)"
   ]
  },
  {
   "cell_type": "code",
   "execution_count": 43,
   "id": "928df55d",
   "metadata": {},
   "outputs": [],
   "source": [
    "df['nino-1'] = df['nino34'].shift(periods = 1)\n",
    "df['nino-2'] = df['nino34'].shift(periods = 2)\n",
    "df['종가-1'] = df['종가'].shift(periods = 1)\n",
    "df['종가-2'] = df['종가'].shift(periods = 2)"
   ]
  },
  {
   "cell_type": "code",
   "execution_count": 44,
   "id": "0bcfb4ce",
   "metadata": {},
   "outputs": [
    {
     "data": {
      "text/html": [
       "<div>\n",
       "<style scoped>\n",
       "    .dataframe tbody tr th:only-of-type {\n",
       "        vertical-align: middle;\n",
       "    }\n",
       "\n",
       "    .dataframe tbody tr th {\n",
       "        vertical-align: top;\n",
       "    }\n",
       "\n",
       "    .dataframe thead th {\n",
       "        text-align: right;\n",
       "    }\n",
       "</style>\n",
       "<table border=\"1\" class=\"dataframe\">\n",
       "  <thead>\n",
       "    <tr style=\"text-align: right;\">\n",
       "      <th></th>\n",
       "      <th>평균가</th>\n",
       "      <th>등락률(%)</th>\n",
       "      <th>종가</th>\n",
       "      <th>환산가($/ton)</th>\n",
       "      <th>nino34</th>\n",
       "      <th>nino-1</th>\n",
       "      <th>nino-2</th>\n",
       "      <th>종가-1</th>\n",
       "      <th>종가-2</th>\n",
       "    </tr>\n",
       "    <tr>\n",
       "      <th>DATE</th>\n",
       "      <th></th>\n",
       "      <th></th>\n",
       "      <th></th>\n",
       "      <th></th>\n",
       "      <th></th>\n",
       "      <th></th>\n",
       "      <th></th>\n",
       "      <th></th>\n",
       "      <th></th>\n",
       "    </tr>\n",
       "  </thead>\n",
       "  <tbody>\n",
       "    <tr>\n",
       "      <th>2010-11-01</th>\n",
       "      <td>3257.68</td>\n",
       "      <td>0.00</td>\n",
       "      <td>3412.0</td>\n",
       "      <td>NaN</td>\n",
       "      <td>25.06</td>\n",
       "      <td>NaN</td>\n",
       "      <td>NaN</td>\n",
       "      <td>NaN</td>\n",
       "      <td>NaN</td>\n",
       "    </tr>\n",
       "    <tr>\n",
       "      <th>2010-12-01</th>\n",
       "      <td>3626.81</td>\n",
       "      <td>0.00</td>\n",
       "      <td>3788.0</td>\n",
       "      <td>NaN</td>\n",
       "      <td>25.00</td>\n",
       "      <td>25.06</td>\n",
       "      <td>NaN</td>\n",
       "      <td>3412.0</td>\n",
       "      <td>NaN</td>\n",
       "    </tr>\n",
       "    <tr>\n",
       "      <th>2011-01-01</th>\n",
       "      <td>3741.47</td>\n",
       "      <td>0.00</td>\n",
       "      <td>3809.0</td>\n",
       "      <td>NaN</td>\n",
       "      <td>25.00</td>\n",
       "      <td>25.00</td>\n",
       "      <td>25.06</td>\n",
       "      <td>3788.0</td>\n",
       "      <td>3412.0</td>\n",
       "    </tr>\n",
       "    <tr>\n",
       "      <th>2011-02-01</th>\n",
       "      <td>3750.43</td>\n",
       "      <td>0.00</td>\n",
       "      <td>3515.0</td>\n",
       "      <td>NaN</td>\n",
       "      <td>25.64</td>\n",
       "      <td>25.00</td>\n",
       "      <td>25.00</td>\n",
       "      <td>3809.0</td>\n",
       "      <td>3788.0</td>\n",
       "    </tr>\n",
       "    <tr>\n",
       "      <th>2011-03-01</th>\n",
       "      <td>3424.65</td>\n",
       "      <td>0.00</td>\n",
       "      <td>3326.0</td>\n",
       "      <td>NaN</td>\n",
       "      <td>26.36</td>\n",
       "      <td>25.64</td>\n",
       "      <td>25.00</td>\n",
       "      <td>3515.0</td>\n",
       "      <td>3809.0</td>\n",
       "    </tr>\n",
       "    <tr>\n",
       "      <th>...</th>\n",
       "      <td>...</td>\n",
       "      <td>...</td>\n",
       "      <td>...</td>\n",
       "      <td>...</td>\n",
       "      <td>...</td>\n",
       "      <td>...</td>\n",
       "      <td>...</td>\n",
       "      <td>...</td>\n",
       "      <td>...</td>\n",
       "    </tr>\n",
       "    <tr>\n",
       "      <th>2021-08-01</th>\n",
       "      <td>4307.95</td>\n",
       "      <td>59.46</td>\n",
       "      <td>4254.0</td>\n",
       "      <td>1028.16</td>\n",
       "      <td>26.32</td>\n",
       "      <td>26.90</td>\n",
       "      <td>27.45</td>\n",
       "      <td>4369.0</td>\n",
       "      <td>3599.0</td>\n",
       "    </tr>\n",
       "    <tr>\n",
       "      <th>2021-09-01</th>\n",
       "      <td>4379.61</td>\n",
       "      <td>53.18</td>\n",
       "      <td>4595.0</td>\n",
       "      <td>1046.57</td>\n",
       "      <td>26.16</td>\n",
       "      <td>26.32</td>\n",
       "      <td>26.90</td>\n",
       "      <td>4254.0</td>\n",
       "      <td>4369.0</td>\n",
       "    </tr>\n",
       "    <tr>\n",
       "      <th>2021-10-01</th>\n",
       "      <td>4911.41</td>\n",
       "      <td>68.73</td>\n",
       "      <td>4929.0</td>\n",
       "      <td>1182.21</td>\n",
       "      <td>25.77</td>\n",
       "      <td>26.16</td>\n",
       "      <td>26.32</td>\n",
       "      <td>4595.0</td>\n",
       "      <td>4254.0</td>\n",
       "    </tr>\n",
       "    <tr>\n",
       "      <th>2021-11-01</th>\n",
       "      <td>4903.86</td>\n",
       "      <td>50.52</td>\n",
       "      <td>4672.0</td>\n",
       "      <td>1156.97</td>\n",
       "      <td>25.76</td>\n",
       "      <td>25.77</td>\n",
       "      <td>26.16</td>\n",
       "      <td>4929.0</td>\n",
       "      <td>4595.0</td>\n",
       "    </tr>\n",
       "    <tr>\n",
       "      <th>2021-12-01</th>\n",
       "      <td>4632.82</td>\n",
       "      <td>34.72</td>\n",
       "      <td>4697.0</td>\n",
       "      <td>1109.26</td>\n",
       "      <td>25.53</td>\n",
       "      <td>25.76</td>\n",
       "      <td>25.77</td>\n",
       "      <td>4672.0</td>\n",
       "      <td>4929.0</td>\n",
       "    </tr>\n",
       "  </tbody>\n",
       "</table>\n",
       "<p>134 rows × 9 columns</p>\n",
       "</div>"
      ],
      "text/plain": [
       "                평균가  등락률(%)      종가  환산가($/ton)  nino34  nino-1  nino-2  \\\n",
       "DATE                                                                      \n",
       "2010-11-01  3257.68    0.00  3412.0         NaN   25.06     NaN     NaN   \n",
       "2010-12-01  3626.81    0.00  3788.0         NaN   25.00   25.06     NaN   \n",
       "2011-01-01  3741.47    0.00  3809.0         NaN   25.00   25.00   25.06   \n",
       "2011-02-01  3750.43    0.00  3515.0         NaN   25.64   25.00   25.00   \n",
       "2011-03-01  3424.65    0.00  3326.0         NaN   26.36   25.64   25.00   \n",
       "...             ...     ...     ...         ...     ...     ...     ...   \n",
       "2021-08-01  4307.95   59.46  4254.0     1028.16   26.32   26.90   27.45   \n",
       "2021-09-01  4379.61   53.18  4595.0     1046.57   26.16   26.32   26.90   \n",
       "2021-10-01  4911.41   68.73  4929.0     1182.21   25.77   26.16   26.32   \n",
       "2021-11-01  4903.86   50.52  4672.0     1156.97   25.76   25.77   26.16   \n",
       "2021-12-01  4632.82   34.72  4697.0     1109.26   25.53   25.76   25.77   \n",
       "\n",
       "              종가-1    종가-2  \n",
       "DATE                        \n",
       "2010-11-01     NaN     NaN  \n",
       "2010-12-01  3412.0     NaN  \n",
       "2011-01-01  3788.0  3412.0  \n",
       "2011-02-01  3809.0  3788.0  \n",
       "2011-03-01  3515.0  3809.0  \n",
       "...            ...     ...  \n",
       "2021-08-01  4369.0  3599.0  \n",
       "2021-09-01  4254.0  4369.0  \n",
       "2021-10-01  4595.0  4254.0  \n",
       "2021-11-01  4929.0  4595.0  \n",
       "2021-12-01  4672.0  4929.0  \n",
       "\n",
       "[134 rows x 9 columns]"
      ]
     },
     "execution_count": 44,
     "metadata": {},
     "output_type": "execute_result"
    }
   ],
   "source": [
    "df"
   ]
  },
  {
   "cell_type": "code",
   "execution_count": 51,
   "id": "10087777",
   "metadata": {},
   "outputs": [],
   "source": [
    "data = df.drop(columns = ['nino34', '평균가', '등락률(%)', '환산가($/ton)'])"
   ]
  },
  {
   "cell_type": "code",
   "execution_count": 65,
   "id": "0daf718a",
   "metadata": {},
   "outputs": [],
   "source": [
    "data.dropna(inplace = True)"
   ]
  },
  {
   "cell_type": "code",
   "execution_count": 67,
   "id": "ef07fdd9",
   "metadata": {},
   "outputs": [
    {
     "data": {
      "text/html": [
       "<div>\n",
       "<style scoped>\n",
       "    .dataframe tbody tr th:only-of-type {\n",
       "        vertical-align: middle;\n",
       "    }\n",
       "\n",
       "    .dataframe tbody tr th {\n",
       "        vertical-align: top;\n",
       "    }\n",
       "\n",
       "    .dataframe thead th {\n",
       "        text-align: right;\n",
       "    }\n",
       "</style>\n",
       "<table border=\"1\" class=\"dataframe\">\n",
       "  <thead>\n",
       "    <tr style=\"text-align: right;\">\n",
       "      <th></th>\n",
       "      <th>종가</th>\n",
       "      <th>nino-1</th>\n",
       "      <th>nino-2</th>\n",
       "      <th>종가-1</th>\n",
       "      <th>종가-2</th>\n",
       "    </tr>\n",
       "    <tr>\n",
       "      <th>DATE</th>\n",
       "      <th></th>\n",
       "      <th></th>\n",
       "      <th></th>\n",
       "      <th></th>\n",
       "      <th></th>\n",
       "    </tr>\n",
       "  </thead>\n",
       "  <tbody>\n",
       "    <tr>\n",
       "      <th>2011-01-01</th>\n",
       "      <td>3809.0</td>\n",
       "      <td>25.00</td>\n",
       "      <td>25.06</td>\n",
       "      <td>3788.0</td>\n",
       "      <td>3412.0</td>\n",
       "    </tr>\n",
       "    <tr>\n",
       "      <th>2011-02-01</th>\n",
       "      <td>3515.0</td>\n",
       "      <td>25.00</td>\n",
       "      <td>25.00</td>\n",
       "      <td>3809.0</td>\n",
       "      <td>3788.0</td>\n",
       "    </tr>\n",
       "    <tr>\n",
       "      <th>2011-03-01</th>\n",
       "      <td>3326.0</td>\n",
       "      <td>25.64</td>\n",
       "      <td>25.00</td>\n",
       "      <td>3515.0</td>\n",
       "      <td>3809.0</td>\n",
       "    </tr>\n",
       "    <tr>\n",
       "      <th>2011-04-01</th>\n",
       "      <td>3270.0</td>\n",
       "      <td>26.36</td>\n",
       "      <td>25.64</td>\n",
       "      <td>3326.0</td>\n",
       "      <td>3515.0</td>\n",
       "    </tr>\n",
       "    <tr>\n",
       "      <th>2011-05-01</th>\n",
       "      <td>3393.0</td>\n",
       "      <td>27.05</td>\n",
       "      <td>26.36</td>\n",
       "      <td>3270.0</td>\n",
       "      <td>3326.0</td>\n",
       "    </tr>\n",
       "    <tr>\n",
       "      <th>...</th>\n",
       "      <td>...</td>\n",
       "      <td>...</td>\n",
       "      <td>...</td>\n",
       "      <td>...</td>\n",
       "      <td>...</td>\n",
       "    </tr>\n",
       "    <tr>\n",
       "      <th>2021-08-01</th>\n",
       "      <td>4254.0</td>\n",
       "      <td>26.90</td>\n",
       "      <td>27.45</td>\n",
       "      <td>4369.0</td>\n",
       "      <td>3599.0</td>\n",
       "    </tr>\n",
       "    <tr>\n",
       "      <th>2021-09-01</th>\n",
       "      <td>4595.0</td>\n",
       "      <td>26.32</td>\n",
       "      <td>26.90</td>\n",
       "      <td>4254.0</td>\n",
       "      <td>4369.0</td>\n",
       "    </tr>\n",
       "    <tr>\n",
       "      <th>2021-10-01</th>\n",
       "      <td>4929.0</td>\n",
       "      <td>26.16</td>\n",
       "      <td>26.32</td>\n",
       "      <td>4595.0</td>\n",
       "      <td>4254.0</td>\n",
       "    </tr>\n",
       "    <tr>\n",
       "      <th>2021-11-01</th>\n",
       "      <td>4672.0</td>\n",
       "      <td>25.77</td>\n",
       "      <td>26.16</td>\n",
       "      <td>4929.0</td>\n",
       "      <td>4595.0</td>\n",
       "    </tr>\n",
       "    <tr>\n",
       "      <th>2021-12-01</th>\n",
       "      <td>4697.0</td>\n",
       "      <td>25.76</td>\n",
       "      <td>25.77</td>\n",
       "      <td>4672.0</td>\n",
       "      <td>4929.0</td>\n",
       "    </tr>\n",
       "  </tbody>\n",
       "</table>\n",
       "<p>132 rows × 5 columns</p>\n",
       "</div>"
      ],
      "text/plain": [
       "                종가  nino-1  nino-2    종가-1    종가-2\n",
       "DATE                                              \n",
       "2011-01-01  3809.0   25.00   25.06  3788.0  3412.0\n",
       "2011-02-01  3515.0   25.00   25.00  3809.0  3788.0\n",
       "2011-03-01  3326.0   25.64   25.00  3515.0  3809.0\n",
       "2011-04-01  3270.0   26.36   25.64  3326.0  3515.0\n",
       "2011-05-01  3393.0   27.05   26.36  3270.0  3326.0\n",
       "...            ...     ...     ...     ...     ...\n",
       "2021-08-01  4254.0   26.90   27.45  4369.0  3599.0\n",
       "2021-09-01  4595.0   26.32   26.90  4254.0  4369.0\n",
       "2021-10-01  4929.0   26.16   26.32  4595.0  4254.0\n",
       "2021-11-01  4672.0   25.77   26.16  4929.0  4595.0\n",
       "2021-12-01  4697.0   25.76   25.77  4672.0  4929.0\n",
       "\n",
       "[132 rows x 5 columns]"
      ]
     },
     "execution_count": 67,
     "metadata": {},
     "output_type": "execute_result"
    }
   ],
   "source": [
    "data"
   ]
  },
  {
   "cell_type": "code",
   "execution_count": 68,
   "id": "a7ec622b",
   "metadata": {},
   "outputs": [],
   "source": [
    "predict_var = '종가'\n",
    "\n",
    "y = data[predict_var]\n",
    "x = data.drop(columns = [predict_var])"
   ]
  },
  {
   "cell_type": "markdown",
   "id": "202c6398",
   "metadata": {},
   "source": [
    "### Random Forest Regression"
   ]
  },
  {
   "cell_type": "code",
   "execution_count": 58,
   "id": "4533da8f",
   "metadata": {},
   "outputs": [],
   "source": [
    "from sklearn.ensemble import RandomForestRegressor\n",
    "from sklearn.model_selection import train_test_split"
   ]
  },
  {
   "cell_type": "code",
   "execution_count": 69,
   "id": "d63f9fb8",
   "metadata": {},
   "outputs": [],
   "source": [
    "x_train, x_test, y_train, y_test = train_test_split(x, y, test_size = 0.4, random_state = 0)"
   ]
  },
  {
   "cell_type": "code",
   "execution_count": 70,
   "id": "bd37bb42",
   "metadata": {},
   "outputs": [
    {
     "data": {
      "text/plain": [
       "RandomForestRegressor()"
      ]
     },
     "execution_count": 70,
     "metadata": {},
     "output_type": "execute_result"
    }
   ],
   "source": [
    "regressor = RandomForestRegressor()\n",
    "regressor.fit(x_train, y_train)"
   ]
  },
  {
   "cell_type": "code",
   "execution_count": 79,
   "id": "d78c6a55",
   "metadata": {},
   "outputs": [],
   "source": [
    "y_pred = regressor.predict(x_test)"
   ]
  },
  {
   "cell_type": "markdown",
   "id": "e4965434",
   "metadata": {},
   "source": [
    "### 정확도"
   ]
  },
  {
   "cell_type": "code",
   "execution_count": 83,
   "id": "a3fb853c",
   "metadata": {},
   "outputs": [
    {
     "name": "stdout",
     "output_type": "stream",
     "text": [
      "Mean Absolute Error  154.65\n"
     ]
    }
   ],
   "source": [
    "errors = abs(y_pred - y_test)\n",
    "print('Mean Absolute Error ', round(np.mean(errors), 2))"
   ]
  },
  {
   "cell_type": "code",
   "execution_count": 84,
   "id": "d2e014ee",
   "metadata": {},
   "outputs": [
    {
     "name": "stdout",
     "output_type": "stream",
     "text": [
      "Accuracy:  94.29 %\n"
     ]
    }
   ],
   "source": [
    "mape = 100 * (errors / y_test)\n",
    "accuracy = 100 - np.mean(mape)\n",
    "print('Accuracy: ', round(accuracy, 2), '%')"
   ]
  },
  {
   "cell_type": "code",
   "execution_count": 80,
   "id": "6d068ff5",
   "metadata": {},
   "outputs": [],
   "source": [
    "from sklearn.metrics import r2_score"
   ]
  },
  {
   "cell_type": "code",
   "execution_count": 81,
   "id": "256b5f19",
   "metadata": {},
   "outputs": [
    {
     "data": {
      "text/plain": [
       "0.8841640981584522"
      ]
     },
     "execution_count": 81,
     "metadata": {},
     "output_type": "execute_result"
    }
   ],
   "source": [
    "r2_score(y_test, y_pred)"
   ]
  },
  {
   "cell_type": "markdown",
   "id": "b02f789f",
   "metadata": {},
   "source": [
    "### 중요성\n",
    "snippet from: https://towardsdatascience.com/random-forest-in-python-24d0893d51c0"
   ]
  },
  {
   "cell_type": "code",
   "execution_count": 86,
   "id": "719fca47",
   "metadata": {},
   "outputs": [
    {
     "name": "stdout",
     "output_type": "stream",
     "text": [
      "Variable: 종가-1                 Importance: 0.82\n",
      "Variable: 종가-2                 Importance: 0.14\n",
      "Variable: nino-1               Importance: 0.02\n",
      "Variable: nino-2               Importance: 0.02\n"
     ]
    }
   ],
   "source": [
    "feature_list = list(x.columns)\n",
    "importances = list(regressor.feature_importances_)\n",
    "# List of tuples with variable and importance\n",
    "feature_importances = [(feature, round(importance, 2)) for feature, importance in zip(feature_list, importances)]\n",
    "# Sort the feature importances by most important first\n",
    "feature_importances = sorted(feature_importances, key = lambda x: x[1], reverse = True)\n",
    "# Print out the feature and importances \n",
    "[print('Variable: {:20} Importance: {}'.format(*pair)) for pair in feature_importances];"
   ]
  },
  {
   "cell_type": "markdown",
   "id": "2825fa57",
   "metadata": {},
   "source": [
    "### 가시화\n",
    "snippet from: https://towardsdatascience.com/random-forest-in-python-24d0893d51c0"
   ]
  },
  {
   "cell_type": "code",
   "execution_count": 87,
   "id": "8b0241ef",
   "metadata": {},
   "outputs": [],
   "source": [
    "predictions_data = pd.DataFrame(y_pred)"
   ]
  },
  {
   "cell_type": "code",
   "execution_count": null,
   "id": "0711ea83",
   "metadata": {},
   "outputs": [],
   "source": []
  }
 ],
 "metadata": {
  "kernelspec": {
   "display_name": "Python 3",
   "language": "python",
   "name": "python3"
  },
  "language_info": {
   "codemirror_mode": {
    "name": "ipython",
    "version": 3
   },
   "file_extension": ".py",
   "mimetype": "text/x-python",
   "name": "python",
   "nbconvert_exporter": "python",
   "pygments_lexer": "ipython3",
   "version": "3.8.8"
  },
  "toc": {
   "base_numbering": 1,
   "nav_menu": {},
   "number_sections": true,
   "sideBar": true,
   "skip_h1_title": false,
   "title_cell": "Table of Contents",
   "title_sidebar": "Contents",
   "toc_cell": false,
   "toc_position": {},
   "toc_section_display": true,
   "toc_window_display": false
  }
 },
 "nbformat": 4,
 "nbformat_minor": 5
}
